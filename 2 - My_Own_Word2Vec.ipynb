{
  "cells": [
    {
      "cell_type": "markdown",
      "id": "2cd7403f",
      "metadata": {
        "id": "2cd7403f"
      },
      "source": [
        "# BrainStation Capstone Project: Predicting Covid News Sentiment with NLP\n",
        "# Part 2: Training My Word2Vec Embedding\n",
        "\n",
        "\n",
        "**Date:      9/25/2022**  \n",
        "**Author:  Eugene(Yen-Lin) Huang**  \n",
        "**Part 2 of 3**  \n",
        "**Conda Environment: deeplearning**"
      ]
    },
    {
      "cell_type": "markdown",
      "id": "0cad602d",
      "metadata": {
        "id": "0cad602d"
      },
      "source": [
        "This is an interim notebook between my EDA and modeling. For my modeling in the next notebook, I will try on different word vectorization/embedding methods to process my text data. One of the embedding I would like to try is a Word2Vec embedding trained by my own neural network.\n",
        "\n",
        "In this notebook, I will document the process I took to train such an embedding.\n",
        "\n",
        "Similarly, I'll start by importing the libraries. Note that I ran this notebook with Google Colab, but one should also be able to run this notebook under the `deeplearning` environment I provided. The .yml file can be found in the environment folder. "
      ]
    },
    {
      "cell_type": "code",
      "execution_count": 1,
      "id": "bcf144ff",
      "metadata": {
        "id": "bcf144ff"
      },
      "outputs": [],
      "source": [
        "import numpy as np\n",
        "import pandas as pd\n",
        "import matplotlib.pyplot as plt\n",
        "import seaborn as sns\n",
        "import re\n",
        "\n",
        "import tensorflow as tf\n",
        "from tensorflow import keras\n",
        "from tensorflow.keras import layers\n",
        "from tensorflow.keras.layers import Dense, Dropout, Embedding, LSTM, GRU, BatchNormalization\n",
        "from tensorflow.keras.optimizers import Adam\n",
        "from sklearn.model_selection import train_test_split\n",
        "\n",
        "from gensim.utils import simple_preprocess\n",
        "import joblib"
      ]
    },
    {
      "cell_type": "markdown",
      "id": "398eb095",
      "metadata": {
        "id": "398eb095"
      },
      "source": [
        "I will use the cleaned data resulting from my previous notebook (Data Cleaning and EDA). The data can be acquired [here](https://drive.google.com/file/d/1dlXsDPOqUvSK3qAc7RSkyg4psq6jyp9j/view?usp=sharing)."
      ]
    },
    {
      "cell_type": "code",
      "execution_count": 2,
      "id": "2fd2a051",
      "metadata": {
        "colab": {
          "base_uri": "https://localhost:8080/",
          "height": 223
        },
        "id": "2fd2a051",
        "outputId": "6924ce13-c61a-421d-91a0-81a3c7eaedcc",
        "scrolled": false
      },
      "outputs": [
        {
          "output_type": "stream",
          "name": "stdout",
          "text": [
            "Mounted at /content/drive\n"
          ]
        },
        {
          "output_type": "execute_result",
          "data": {
            "text/plain": [
              "        id                                               Body\n",
              "0   116204  SYDNEY (AFP) - Australia on Sunday (March 29) ...\n",
              "1   824885  Pilgrims from Uttarakhand can visit Kedarnath ...\n",
              "2   376185  The previously unreported episode was the late...\n",
              "3  1639298  BOSTON, June 3 (Reuters) - Hedge fund Citadel,...\n",
              "4    96472  (Reuters) - Major global airlines projected la..."
            ],
            "text/html": [
              "\n",
              "  <div id=\"df-ae861389-fac4-4fd9-aab7-27ed339f170d\">\n",
              "    <div class=\"colab-df-container\">\n",
              "      <div>\n",
              "<style scoped>\n",
              "    .dataframe tbody tr th:only-of-type {\n",
              "        vertical-align: middle;\n",
              "    }\n",
              "\n",
              "    .dataframe tbody tr th {\n",
              "        vertical-align: top;\n",
              "    }\n",
              "\n",
              "    .dataframe thead th {\n",
              "        text-align: right;\n",
              "    }\n",
              "</style>\n",
              "<table border=\"1\" class=\"dataframe\">\n",
              "  <thead>\n",
              "    <tr style=\"text-align: right;\">\n",
              "      <th></th>\n",
              "      <th>id</th>\n",
              "      <th>Body</th>\n",
              "    </tr>\n",
              "  </thead>\n",
              "  <tbody>\n",
              "    <tr>\n",
              "      <th>0</th>\n",
              "      <td>116204</td>\n",
              "      <td>SYDNEY (AFP) - Australia on Sunday (March 29) ...</td>\n",
              "    </tr>\n",
              "    <tr>\n",
              "      <th>1</th>\n",
              "      <td>824885</td>\n",
              "      <td>Pilgrims from Uttarakhand can visit Kedarnath ...</td>\n",
              "    </tr>\n",
              "    <tr>\n",
              "      <th>2</th>\n",
              "      <td>376185</td>\n",
              "      <td>The previously unreported episode was the late...</td>\n",
              "    </tr>\n",
              "    <tr>\n",
              "      <th>3</th>\n",
              "      <td>1639298</td>\n",
              "      <td>BOSTON, June 3 (Reuters) - Hedge fund Citadel,...</td>\n",
              "    </tr>\n",
              "    <tr>\n",
              "      <th>4</th>\n",
              "      <td>96472</td>\n",
              "      <td>(Reuters) - Major global airlines projected la...</td>\n",
              "    </tr>\n",
              "  </tbody>\n",
              "</table>\n",
              "</div>\n",
              "      <button class=\"colab-df-convert\" onclick=\"convertToInteractive('df-ae861389-fac4-4fd9-aab7-27ed339f170d')\"\n",
              "              title=\"Convert this dataframe to an interactive table.\"\n",
              "              style=\"display:none;\">\n",
              "        \n",
              "  <svg xmlns=\"http://www.w3.org/2000/svg\" height=\"24px\"viewBox=\"0 0 24 24\"\n",
              "       width=\"24px\">\n",
              "    <path d=\"M0 0h24v24H0V0z\" fill=\"none\"/>\n",
              "    <path d=\"M18.56 5.44l.94 2.06.94-2.06 2.06-.94-2.06-.94-.94-2.06-.94 2.06-2.06.94zm-11 1L8.5 8.5l.94-2.06 2.06-.94-2.06-.94L8.5 2.5l-.94 2.06-2.06.94zm10 10l.94 2.06.94-2.06 2.06-.94-2.06-.94-.94-2.06-.94 2.06-2.06.94z\"/><path d=\"M17.41 7.96l-1.37-1.37c-.4-.4-.92-.59-1.43-.59-.52 0-1.04.2-1.43.59L10.3 9.45l-7.72 7.72c-.78.78-.78 2.05 0 2.83L4 21.41c.39.39.9.59 1.41.59.51 0 1.02-.2 1.41-.59l7.78-7.78 2.81-2.81c.8-.78.8-2.07 0-2.86zM5.41 20L4 18.59l7.72-7.72 1.47 1.35L5.41 20z\"/>\n",
              "  </svg>\n",
              "      </button>\n",
              "      \n",
              "  <style>\n",
              "    .colab-df-container {\n",
              "      display:flex;\n",
              "      flex-wrap:wrap;\n",
              "      gap: 12px;\n",
              "    }\n",
              "\n",
              "    .colab-df-convert {\n",
              "      background-color: #E8F0FE;\n",
              "      border: none;\n",
              "      border-radius: 50%;\n",
              "      cursor: pointer;\n",
              "      display: none;\n",
              "      fill: #1967D2;\n",
              "      height: 32px;\n",
              "      padding: 0 0 0 0;\n",
              "      width: 32px;\n",
              "    }\n",
              "\n",
              "    .colab-df-convert:hover {\n",
              "      background-color: #E2EBFA;\n",
              "      box-shadow: 0px 1px 2px rgba(60, 64, 67, 0.3), 0px 1px 3px 1px rgba(60, 64, 67, 0.15);\n",
              "      fill: #174EA6;\n",
              "    }\n",
              "\n",
              "    [theme=dark] .colab-df-convert {\n",
              "      background-color: #3B4455;\n",
              "      fill: #D2E3FC;\n",
              "    }\n",
              "\n",
              "    [theme=dark] .colab-df-convert:hover {\n",
              "      background-color: #434B5C;\n",
              "      box-shadow: 0px 1px 3px 1px rgba(0, 0, 0, 0.15);\n",
              "      filter: drop-shadow(0px 1px 2px rgba(0, 0, 0, 0.3));\n",
              "      fill: #FFFFFF;\n",
              "    }\n",
              "  </style>\n",
              "\n",
              "      <script>\n",
              "        const buttonEl =\n",
              "          document.querySelector('#df-ae861389-fac4-4fd9-aab7-27ed339f170d button.colab-df-convert');\n",
              "        buttonEl.style.display =\n",
              "          google.colab.kernel.accessAllowed ? 'block' : 'none';\n",
              "\n",
              "        async function convertToInteractive(key) {\n",
              "          const element = document.querySelector('#df-ae861389-fac4-4fd9-aab7-27ed339f170d');\n",
              "          const dataTable =\n",
              "            await google.colab.kernel.invokeFunction('convertToInteractive',\n",
              "                                                     [key], {});\n",
              "          if (!dataTable) return;\n",
              "\n",
              "          const docLinkHtml = 'Like what you see? Visit the ' +\n",
              "            '<a target=\"_blank\" href=https://colab.research.google.com/notebooks/data_table.ipynb>data table notebook</a>'\n",
              "            + ' to learn more about interactive tables.';\n",
              "          element.innerHTML = '';\n",
              "          dataTable['output_type'] = 'display_data';\n",
              "          await google.colab.output.renderOutput(dataTable, element);\n",
              "          const docLink = document.createElement('div');\n",
              "          docLink.innerHTML = docLinkHtml;\n",
              "          element.appendChild(docLink);\n",
              "        }\n",
              "      </script>\n",
              "    </div>\n",
              "  </div>\n",
              "  "
            ]
          },
          "metadata": {},
          "execution_count": 2
        }
      ],
      "source": [
        "from google.colab import drive\n",
        "drive.mount('/content/drive')\n",
        "\n",
        "articles = pd.read_csv('drive/MyDrive/data/Covid_Dataset_Cleaned.csv').loc[:,['id', 'Body']]\n",
        "articles.head()"
      ]
    },
    {
      "cell_type": "markdown",
      "id": "5bd7a16b",
      "metadata": {
        "id": "5bd7a16b"
      },
      "source": [
        "To train the Word2Vec embedding, I will need to create a skip-gram-based data frame that pairs a focal word with its neighbors. For example, consider the sentence `all we know is nothing` and a window of 2. The first focal word is **all**, for which a skip-gram widow is created, which includes all the words surrounding it within a radius of 2. In this case, the window would be `[all, we, know]`, where the focal word is **all**, and `we` and `know` appears in the neighbor. Therefore, the following rows should be included in the dataframe, which looks like the following:\n",
        "\n",
        "      all      we\n",
        "      all     know\n",
        "\n",
        "Moving on to the next focal word **we**. The window looks like this: `[all, we, know, is]`. `all`, `know`, `is` appeared in the window surrounding **we**. Therefore, we would add three rows to the dataframe. Now it becomes:\n",
        "\n",
        "      all       we\n",
        "      all     know\n",
        "       we      all\n",
        "       we     know\n",
        "       we       is\n",
        "\n",
        "The process will be repeated until the end of the corpus. The first column would be the base word, which will be the input data for our model. The goal of the model would be to predict the words in the second column(target). Below I will use only one of the articles to demonstrate how I would create such a dataframe from the corpus."
      ]
    },
    {
      "cell_type": "code",
      "execution_count": 3,
      "id": "6f662f39",
      "metadata": {
        "id": "6f662f39"
      },
      "outputs": [],
      "source": [
        "#Select one of the articles in my data and split it by white space\n",
        "example = articles['Body'][0]"
      ]
    },
    {
      "cell_type": "code",
      "execution_count": 4,
      "id": "8374e45a",
      "metadata": {
        "id": "8374e45a"
      },
      "outputs": [],
      "source": [
        "#preprocess the text using simple_preprocess method in gensim library\n",
        "tokenized_article = simple_preprocess(example)"
      ]
    },
    {
      "cell_type": "markdown",
      "id": "f848145d",
      "metadata": {
        "id": "f848145d"
      },
      "source": [
        "The processed article now looks like this: "
      ]
    },
    {
      "cell_type": "code",
      "execution_count": 5,
      "id": "d9867353",
      "metadata": {
        "colab": {
          "base_uri": "https://localhost:8080/"
        },
        "id": "d9867353",
        "outputId": "4f753d94-5bf1-4276-80b5-076dd4cd29d7",
        "scrolled": true
      },
      "outputs": [
        {
          "output_type": "stream",
          "name": "stdout",
          "text": [
            "sydney afp australia on sunday march announced nearly us million million boost in funding to tackle domestic violence after support services reported spike in coronavirus related family abuse prime minister scott morrison said there had been per cent surge in google searches for help during the ongoing nationwide shutdown of non essential services to curb the spread of covid women safety domestic violence charity in australia most populous new south wales state has reported that more than per cent of workers had seen an increase in client numbers with over third of cases directly linked to the virus outbreak in neighbouring victoria women support service wayss said police requests for assistance with cases had almost doubled in the past week as they dealt with form of abuse not experienced before just having the people in the house rather than having the pressure release of going to work or being able to travel freely outside of the house are contributing factors wayss ceo liz thomas told public broadcaster abc we ve also seen half dozen examples in the past week where perpetrators have actually used covid as form of abuse telling their partner that they have the virus therefore they can leave the house perpetrators have also invited people into the house where the woman is self isolating saying that the visitor has covid and is going to infect them ms thomas said prime minister morrison said the aus million million boost part of an additional aus billion in health related spending announced on sunday would be spent on telephone support services for both domestic violence victims and abusers we need to put more resources into supporting people who will be vulnerable and may be vulnerable he told reporters in canberra the government is also increasing funding for online mental health services telephone medical consultations and emergency food relief in response to the coronavirus pandemic which has left many people largely confined to their homes australia has recorded almost cases of covid with the death toll rising to on sunday\n"
          ]
        }
      ],
      "source": [
        "print(*tokenized_article, sep=' ')"
      ]
    },
    {
      "cell_type": "markdown",
      "id": "5f95c752",
      "metadata": {
        "id": "5f95c752"
      },
      "source": [
        "I will then generate the skip-gram-based dataframe."
      ]
    },
    {
      "cell_type": "code",
      "execution_count": 6,
      "id": "227a2612",
      "metadata": {
        "id": "227a2612"
      },
      "outputs": [],
      "source": [
        "#generate skip gram-based dataframe\n",
        "data=[]\n",
        "window = 2\n",
        "\n",
        "#For each word, look at the neighbors in the skip gram and generate rows\n",
        "for i in range(len(tokenized_article)):\n",
        "    word = tokenized_article[i]\n",
        "    #The window starts with 2 words left to the focal words (or the start of the article if the focal word is at the beginning)\n",
        "    #Similarly the window ends with 2 words right to the focal words (or the end of the article if the focal word is at the end)\n",
        "    for neighbor in tokenized_article[max(0, i - window) : min(i + window, len(tokenized_article))]:\n",
        "        if neighbor!=word:\n",
        "            data.append([word, neighbor])"
      ]
    },
    {
      "cell_type": "code",
      "execution_count": 7,
      "id": "80962586",
      "metadata": {
        "colab": {
          "base_uri": "https://localhost:8080/",
          "height": 424
        },
        "id": "80962586",
        "outputId": "c0434b7e-fa11-407e-c8bf-1ecd2a401e77",
        "scrolled": true
      },
      "outputs": [
        {
          "output_type": "execute_result",
          "data": {
            "text/plain": [
              "           base     target\n",
              "0        sydney        afp\n",
              "1           afp     sydney\n",
              "2           afp  australia\n",
              "3     australia     sydney\n",
              "4     australia        afp\n",
              "...         ...        ...\n",
              "1004         on     rising\n",
              "1005         on         to\n",
              "1006         on     sunday\n",
              "1007     sunday         to\n",
              "1008     sunday         on\n",
              "\n",
              "[1009 rows x 2 columns]"
            ],
            "text/html": [
              "\n",
              "  <div id=\"df-dfe80c66-d08d-4283-9080-03c1e59b2c61\">\n",
              "    <div class=\"colab-df-container\">\n",
              "      <div>\n",
              "<style scoped>\n",
              "    .dataframe tbody tr th:only-of-type {\n",
              "        vertical-align: middle;\n",
              "    }\n",
              "\n",
              "    .dataframe tbody tr th {\n",
              "        vertical-align: top;\n",
              "    }\n",
              "\n",
              "    .dataframe thead th {\n",
              "        text-align: right;\n",
              "    }\n",
              "</style>\n",
              "<table border=\"1\" class=\"dataframe\">\n",
              "  <thead>\n",
              "    <tr style=\"text-align: right;\">\n",
              "      <th></th>\n",
              "      <th>base</th>\n",
              "      <th>target</th>\n",
              "    </tr>\n",
              "  </thead>\n",
              "  <tbody>\n",
              "    <tr>\n",
              "      <th>0</th>\n",
              "      <td>sydney</td>\n",
              "      <td>afp</td>\n",
              "    </tr>\n",
              "    <tr>\n",
              "      <th>1</th>\n",
              "      <td>afp</td>\n",
              "      <td>sydney</td>\n",
              "    </tr>\n",
              "    <tr>\n",
              "      <th>2</th>\n",
              "      <td>afp</td>\n",
              "      <td>australia</td>\n",
              "    </tr>\n",
              "    <tr>\n",
              "      <th>3</th>\n",
              "      <td>australia</td>\n",
              "      <td>sydney</td>\n",
              "    </tr>\n",
              "    <tr>\n",
              "      <th>4</th>\n",
              "      <td>australia</td>\n",
              "      <td>afp</td>\n",
              "    </tr>\n",
              "    <tr>\n",
              "      <th>...</th>\n",
              "      <td>...</td>\n",
              "      <td>...</td>\n",
              "    </tr>\n",
              "    <tr>\n",
              "      <th>1004</th>\n",
              "      <td>on</td>\n",
              "      <td>rising</td>\n",
              "    </tr>\n",
              "    <tr>\n",
              "      <th>1005</th>\n",
              "      <td>on</td>\n",
              "      <td>to</td>\n",
              "    </tr>\n",
              "    <tr>\n",
              "      <th>1006</th>\n",
              "      <td>on</td>\n",
              "      <td>sunday</td>\n",
              "    </tr>\n",
              "    <tr>\n",
              "      <th>1007</th>\n",
              "      <td>sunday</td>\n",
              "      <td>to</td>\n",
              "    </tr>\n",
              "    <tr>\n",
              "      <th>1008</th>\n",
              "      <td>sunday</td>\n",
              "      <td>on</td>\n",
              "    </tr>\n",
              "  </tbody>\n",
              "</table>\n",
              "<p>1009 rows × 2 columns</p>\n",
              "</div>\n",
              "      <button class=\"colab-df-convert\" onclick=\"convertToInteractive('df-dfe80c66-d08d-4283-9080-03c1e59b2c61')\"\n",
              "              title=\"Convert this dataframe to an interactive table.\"\n",
              "              style=\"display:none;\">\n",
              "        \n",
              "  <svg xmlns=\"http://www.w3.org/2000/svg\" height=\"24px\"viewBox=\"0 0 24 24\"\n",
              "       width=\"24px\">\n",
              "    <path d=\"M0 0h24v24H0V0z\" fill=\"none\"/>\n",
              "    <path d=\"M18.56 5.44l.94 2.06.94-2.06 2.06-.94-2.06-.94-.94-2.06-.94 2.06-2.06.94zm-11 1L8.5 8.5l.94-2.06 2.06-.94-2.06-.94L8.5 2.5l-.94 2.06-2.06.94zm10 10l.94 2.06.94-2.06 2.06-.94-2.06-.94-.94-2.06-.94 2.06-2.06.94z\"/><path d=\"M17.41 7.96l-1.37-1.37c-.4-.4-.92-.59-1.43-.59-.52 0-1.04.2-1.43.59L10.3 9.45l-7.72 7.72c-.78.78-.78 2.05 0 2.83L4 21.41c.39.39.9.59 1.41.59.51 0 1.02-.2 1.41-.59l7.78-7.78 2.81-2.81c.8-.78.8-2.07 0-2.86zM5.41 20L4 18.59l7.72-7.72 1.47 1.35L5.41 20z\"/>\n",
              "  </svg>\n",
              "      </button>\n",
              "      \n",
              "  <style>\n",
              "    .colab-df-container {\n",
              "      display:flex;\n",
              "      flex-wrap:wrap;\n",
              "      gap: 12px;\n",
              "    }\n",
              "\n",
              "    .colab-df-convert {\n",
              "      background-color: #E8F0FE;\n",
              "      border: none;\n",
              "      border-radius: 50%;\n",
              "      cursor: pointer;\n",
              "      display: none;\n",
              "      fill: #1967D2;\n",
              "      height: 32px;\n",
              "      padding: 0 0 0 0;\n",
              "      width: 32px;\n",
              "    }\n",
              "\n",
              "    .colab-df-convert:hover {\n",
              "      background-color: #E2EBFA;\n",
              "      box-shadow: 0px 1px 2px rgba(60, 64, 67, 0.3), 0px 1px 3px 1px rgba(60, 64, 67, 0.15);\n",
              "      fill: #174EA6;\n",
              "    }\n",
              "\n",
              "    [theme=dark] .colab-df-convert {\n",
              "      background-color: #3B4455;\n",
              "      fill: #D2E3FC;\n",
              "    }\n",
              "\n",
              "    [theme=dark] .colab-df-convert:hover {\n",
              "      background-color: #434B5C;\n",
              "      box-shadow: 0px 1px 3px 1px rgba(0, 0, 0, 0.15);\n",
              "      filter: drop-shadow(0px 1px 2px rgba(0, 0, 0, 0.3));\n",
              "      fill: #FFFFFF;\n",
              "    }\n",
              "  </style>\n",
              "\n",
              "      <script>\n",
              "        const buttonEl =\n",
              "          document.querySelector('#df-dfe80c66-d08d-4283-9080-03c1e59b2c61 button.colab-df-convert');\n",
              "        buttonEl.style.display =\n",
              "          google.colab.kernel.accessAllowed ? 'block' : 'none';\n",
              "\n",
              "        async function convertToInteractive(key) {\n",
              "          const element = document.querySelector('#df-dfe80c66-d08d-4283-9080-03c1e59b2c61');\n",
              "          const dataTable =\n",
              "            await google.colab.kernel.invokeFunction('convertToInteractive',\n",
              "                                                     [key], {});\n",
              "          if (!dataTable) return;\n",
              "\n",
              "          const docLinkHtml = 'Like what you see? Visit the ' +\n",
              "            '<a target=\"_blank\" href=https://colab.research.google.com/notebooks/data_table.ipynb>data table notebook</a>'\n",
              "            + ' to learn more about interactive tables.';\n",
              "          element.innerHTML = '';\n",
              "          dataTable['output_type'] = 'display_data';\n",
              "          await google.colab.output.renderOutput(dataTable, element);\n",
              "          const docLink = document.createElement('div');\n",
              "          docLink.innerHTML = docLinkHtml;\n",
              "          element.appendChild(docLink);\n",
              "        }\n",
              "      </script>\n",
              "    </div>\n",
              "  </div>\n",
              "  "
            ]
          },
          "metadata": {},
          "execution_count": 7
        }
      ],
      "source": [
        "base_df = pd.DataFrame(data, columns=['base', 'target'])\n",
        "base_df"
      ]
    },
    {
      "cell_type": "markdown",
      "id": "dcf16881",
      "metadata": {
        "id": "dcf16881"
      },
      "source": [
        "Using the words in the dataframe, we can generate a dictionary that maps each unique words to an id (integer).\n",
        "\n",
        "Similarly, we want to have the inverse dictionary that maps the id to the original word."
      ]
    },
    {
      "cell_type": "code",
      "execution_count": 8,
      "id": "5363b99c",
      "metadata": {
        "id": "5363b99c"
      },
      "outputs": [],
      "source": [
        "unique_words = base_df['base'].unique() #identify the unique words\n",
        "\n",
        "#generate the dictionaries \n",
        "word_to_int = dict() \n",
        "int_to_word = dict()\n",
        "\n",
        "for i, word in enumerate(unique_words):\n",
        "    word_to_int[word]=i  #mapping word to id\n",
        "    int_to_word[i]=word  #mapping id to word"
      ]
    },
    {
      "cell_type": "markdown",
      "id": "f8c6e877",
      "metadata": {
        "id": "f8c6e877"
      },
      "source": [
        "We can then use the word-to-id dictionary to convert the original dataframe to one that represented by the ids. "
      ]
    },
    {
      "cell_type": "code",
      "execution_count": 9,
      "id": "c6d554c2",
      "metadata": {
        "colab": {
          "base_uri": "https://localhost:8080/",
          "height": 424
        },
        "id": "c6d554c2",
        "outputId": "f879290b-b8b6-4010-c066-3a6572767ceb",
        "scrolled": true
      },
      "outputs": [
        {
          "output_type": "execute_result",
          "data": {
            "text/plain": [
              "      base  target\n",
              "0        0       1\n",
              "1        1       0\n",
              "2        1       2\n",
              "3        2       0\n",
              "4        2       1\n",
              "...    ...     ...\n",
              "1004     3     195\n",
              "1005     3      13\n",
              "1006     3       4\n",
              "1007     4      13\n",
              "1008     4       3\n",
              "\n",
              "[1009 rows x 2 columns]"
            ],
            "text/html": [
              "\n",
              "  <div id=\"df-fdc45eb1-1ec6-49d3-910f-d2e575146b25\">\n",
              "    <div class=\"colab-df-container\">\n",
              "      <div>\n",
              "<style scoped>\n",
              "    .dataframe tbody tr th:only-of-type {\n",
              "        vertical-align: middle;\n",
              "    }\n",
              "\n",
              "    .dataframe tbody tr th {\n",
              "        vertical-align: top;\n",
              "    }\n",
              "\n",
              "    .dataframe thead th {\n",
              "        text-align: right;\n",
              "    }\n",
              "</style>\n",
              "<table border=\"1\" class=\"dataframe\">\n",
              "  <thead>\n",
              "    <tr style=\"text-align: right;\">\n",
              "      <th></th>\n",
              "      <th>base</th>\n",
              "      <th>target</th>\n",
              "    </tr>\n",
              "  </thead>\n",
              "  <tbody>\n",
              "    <tr>\n",
              "      <th>0</th>\n",
              "      <td>0</td>\n",
              "      <td>1</td>\n",
              "    </tr>\n",
              "    <tr>\n",
              "      <th>1</th>\n",
              "      <td>1</td>\n",
              "      <td>0</td>\n",
              "    </tr>\n",
              "    <tr>\n",
              "      <th>2</th>\n",
              "      <td>1</td>\n",
              "      <td>2</td>\n",
              "    </tr>\n",
              "    <tr>\n",
              "      <th>3</th>\n",
              "      <td>2</td>\n",
              "      <td>0</td>\n",
              "    </tr>\n",
              "    <tr>\n",
              "      <th>4</th>\n",
              "      <td>2</td>\n",
              "      <td>1</td>\n",
              "    </tr>\n",
              "    <tr>\n",
              "      <th>...</th>\n",
              "      <td>...</td>\n",
              "      <td>...</td>\n",
              "    </tr>\n",
              "    <tr>\n",
              "      <th>1004</th>\n",
              "      <td>3</td>\n",
              "      <td>195</td>\n",
              "    </tr>\n",
              "    <tr>\n",
              "      <th>1005</th>\n",
              "      <td>3</td>\n",
              "      <td>13</td>\n",
              "    </tr>\n",
              "    <tr>\n",
              "      <th>1006</th>\n",
              "      <td>3</td>\n",
              "      <td>4</td>\n",
              "    </tr>\n",
              "    <tr>\n",
              "      <th>1007</th>\n",
              "      <td>4</td>\n",
              "      <td>13</td>\n",
              "    </tr>\n",
              "    <tr>\n",
              "      <th>1008</th>\n",
              "      <td>4</td>\n",
              "      <td>3</td>\n",
              "    </tr>\n",
              "  </tbody>\n",
              "</table>\n",
              "<p>1009 rows × 2 columns</p>\n",
              "</div>\n",
              "      <button class=\"colab-df-convert\" onclick=\"convertToInteractive('df-fdc45eb1-1ec6-49d3-910f-d2e575146b25')\"\n",
              "              title=\"Convert this dataframe to an interactive table.\"\n",
              "              style=\"display:none;\">\n",
              "        \n",
              "  <svg xmlns=\"http://www.w3.org/2000/svg\" height=\"24px\"viewBox=\"0 0 24 24\"\n",
              "       width=\"24px\">\n",
              "    <path d=\"M0 0h24v24H0V0z\" fill=\"none\"/>\n",
              "    <path d=\"M18.56 5.44l.94 2.06.94-2.06 2.06-.94-2.06-.94-.94-2.06-.94 2.06-2.06.94zm-11 1L8.5 8.5l.94-2.06 2.06-.94-2.06-.94L8.5 2.5l-.94 2.06-2.06.94zm10 10l.94 2.06.94-2.06 2.06-.94-2.06-.94-.94-2.06-.94 2.06-2.06.94z\"/><path d=\"M17.41 7.96l-1.37-1.37c-.4-.4-.92-.59-1.43-.59-.52 0-1.04.2-1.43.59L10.3 9.45l-7.72 7.72c-.78.78-.78 2.05 0 2.83L4 21.41c.39.39.9.59 1.41.59.51 0 1.02-.2 1.41-.59l7.78-7.78 2.81-2.81c.8-.78.8-2.07 0-2.86zM5.41 20L4 18.59l7.72-7.72 1.47 1.35L5.41 20z\"/>\n",
              "  </svg>\n",
              "      </button>\n",
              "      \n",
              "  <style>\n",
              "    .colab-df-container {\n",
              "      display:flex;\n",
              "      flex-wrap:wrap;\n",
              "      gap: 12px;\n",
              "    }\n",
              "\n",
              "    .colab-df-convert {\n",
              "      background-color: #E8F0FE;\n",
              "      border: none;\n",
              "      border-radius: 50%;\n",
              "      cursor: pointer;\n",
              "      display: none;\n",
              "      fill: #1967D2;\n",
              "      height: 32px;\n",
              "      padding: 0 0 0 0;\n",
              "      width: 32px;\n",
              "    }\n",
              "\n",
              "    .colab-df-convert:hover {\n",
              "      background-color: #E2EBFA;\n",
              "      box-shadow: 0px 1px 2px rgba(60, 64, 67, 0.3), 0px 1px 3px 1px rgba(60, 64, 67, 0.15);\n",
              "      fill: #174EA6;\n",
              "    }\n",
              "\n",
              "    [theme=dark] .colab-df-convert {\n",
              "      background-color: #3B4455;\n",
              "      fill: #D2E3FC;\n",
              "    }\n",
              "\n",
              "    [theme=dark] .colab-df-convert:hover {\n",
              "      background-color: #434B5C;\n",
              "      box-shadow: 0px 1px 3px 1px rgba(0, 0, 0, 0.15);\n",
              "      filter: drop-shadow(0px 1px 2px rgba(0, 0, 0, 0.3));\n",
              "      fill: #FFFFFF;\n",
              "    }\n",
              "  </style>\n",
              "\n",
              "      <script>\n",
              "        const buttonEl =\n",
              "          document.querySelector('#df-fdc45eb1-1ec6-49d3-910f-d2e575146b25 button.colab-df-convert');\n",
              "        buttonEl.style.display =\n",
              "          google.colab.kernel.accessAllowed ? 'block' : 'none';\n",
              "\n",
              "        async function convertToInteractive(key) {\n",
              "          const element = document.querySelector('#df-fdc45eb1-1ec6-49d3-910f-d2e575146b25');\n",
              "          const dataTable =\n",
              "            await google.colab.kernel.invokeFunction('convertToInteractive',\n",
              "                                                     [key], {});\n",
              "          if (!dataTable) return;\n",
              "\n",
              "          const docLinkHtml = 'Like what you see? Visit the ' +\n",
              "            '<a target=\"_blank\" href=https://colab.research.google.com/notebooks/data_table.ipynb>data table notebook</a>'\n",
              "            + ' to learn more about interactive tables.';\n",
              "          element.innerHTML = '';\n",
              "          dataTable['output_type'] = 'display_data';\n",
              "          await google.colab.output.renderOutput(dataTable, element);\n",
              "          const docLink = document.createElement('div');\n",
              "          docLink.innerHTML = docLinkHtml;\n",
              "          element.appendChild(docLink);\n",
              "        }\n",
              "      </script>\n",
              "    </div>\n",
              "  </div>\n",
              "  "
            ]
          },
          "metadata": {},
          "execution_count": 9
        }
      ],
      "source": [
        "base_df['base'] = base_df['base'].map(word_to_int)\n",
        "base_df['target'] = base_df['target'].map(word_to_int)\n",
        "base_df"
      ]
    },
    {
      "cell_type": "markdown",
      "id": "27d00a6d",
      "metadata": {
        "id": "27d00a6d"
      },
      "source": [
        "The first column would be our input to the neural network, and the second column is what we try to predict."
      ]
    },
    {
      "cell_type": "code",
      "execution_count": 10,
      "id": "ed6620d7",
      "metadata": {
        "id": "ed6620d7"
      },
      "outputs": [],
      "source": [
        "X = base_df['base']\n",
        "y = base_df['target']"
      ]
    },
    {
      "cell_type": "markdown",
      "id": "f1d87cd0",
      "metadata": {
        "id": "f1d87cd0"
      },
      "source": [
        "Performing the train-test split."
      ]
    },
    {
      "cell_type": "code",
      "execution_count": 11,
      "id": "5204f6c3",
      "metadata": {
        "id": "5204f6c3"
      },
      "outputs": [],
      "source": [
        "X_train, X_test, y_train, y_test = train_test_split(X, y, test_size=0.2)"
      ]
    },
    {
      "cell_type": "markdown",
      "id": "a99ae767",
      "metadata": {
        "id": "a99ae767"
      },
      "source": [
        "I have now demonstrated how to create the training data using one single article. But I would like to utilize multiple articles \n",
        "to train my model. \n",
        "\n",
        "I will first write a function that will take an article as input and return a skip-gram based dataframe as the output:"
      ]
    },
    {
      "cell_type": "code",
      "execution_count": 12,
      "id": "7accf711",
      "metadata": {
        "id": "7accf711"
      },
      "outputs": [],
      "source": [
        "def builing_skip_gram(article, window):\n",
        "    '''\n",
        "    This function tokenize the imput article and create a skip-gram dataframe with the specified window.\n",
        "    '''\n",
        "    \n",
        "    words = article.split()\n",
        "    \n",
        "    #tokenize the article\n",
        "    tokenized_article = simple_preprocess(article)\n",
        "    \n",
        "    #Create list for unique words\n",
        "    unique_words = list()\n",
        "    for word in tokenized_article:\n",
        "        if word not in unique_words:\n",
        "            unique_words.append(word)\n",
        "    \n",
        "    data=[]\n",
        "    for i in range(len(tokenized_article)):\n",
        "        word = tokenized_article[i]\n",
        "        for neighbor in tokenized_article[max(0, i - window) : min(i + window, len(tokenized_article))]:\n",
        "            if neighbor!=word:\n",
        "                data.append([word, neighbor])\n",
        "    \n",
        "    base = pd.DataFrame(data, columns=['base', 'target'])\n",
        "    return base"
      ]
    },
    {
      "cell_type": "markdown",
      "id": "83eb2390",
      "metadata": {
        "id": "83eb2390"
      },
      "source": [
        "Next, I'll select 5,000 articles to generate my training data. Ideally, I would like to utilize more article in my sample, however, given the time constrain I have, training on a larger sample would take much more time than I have. So, I will settle with 5,000 articles. The training text is selected below:"
      ]
    },
    {
      "cell_type": "code",
      "execution_count": 13,
      "id": "8360d05b",
      "metadata": {
        "id": "8360d05b"
      },
      "outputs": [],
      "source": [
        "network_df = articles['Body'][0:5000] #selecting 5,000 articles from the corpus"
      ]
    },
    {
      "cell_type": "markdown",
      "id": "2c740560",
      "metadata": {
        "id": "2c740560"
      },
      "source": [
        "Applying the `builing_skip_gram()` function on each article: "
      ]
    },
    {
      "cell_type": "code",
      "execution_count": 14,
      "id": "42686a9f",
      "metadata": {
        "id": "42686a9f"
      },
      "outputs": [],
      "source": [
        "base_df = pd.concat(network_df.apply(lambda x: builing_skip_gram(article=x, window=2)).to_list())"
      ]
    },
    {
      "cell_type": "markdown",
      "id": "2e806f7b",
      "metadata": {
        "id": "2e806f7b"
      },
      "source": [
        "Similarly, create a word-to-id dictionary and an id-to-word dictionary. "
      ]
    },
    {
      "cell_type": "code",
      "execution_count": 15,
      "id": "58855716",
      "metadata": {
        "id": "58855716"
      },
      "outputs": [],
      "source": [
        "unique_words = base_df['base'].unique()\n",
        "\n",
        "word_to_int = dict()\n",
        "int_to_word = dict()\n",
        "\n",
        "for i, word in enumerate(unique_words):\n",
        "    word_to_int[word]=i\n",
        "    int_to_word[i]=word"
      ]
    },
    {
      "cell_type": "markdown",
      "id": "c04f5bee",
      "metadata": {
        "id": "c04f5bee"
      },
      "source": [
        "Generate the training data:"
      ]
    },
    {
      "cell_type": "code",
      "execution_count": 16,
      "id": "ca679600",
      "metadata": {
        "id": "ca679600"
      },
      "outputs": [],
      "source": [
        "base_df['base'] = base_df['base'].map(word_to_int)\n",
        "base_df['target'] = base_df['target'].map(word_to_int)\n",
        "\n",
        "X = base_df['base']\n",
        "y = base_df['target']"
      ]
    },
    {
      "cell_type": "code",
      "execution_count": 17,
      "id": "5RnUjjcS5RMu",
      "metadata": {
        "colab": {
          "base_uri": "https://localhost:8080/"
        },
        "id": "5RnUjjcS5RMu",
        "outputId": "a3a33f57-0bb3-473d-e6d1-770f215f089f"
      },
      "outputs": [
        {
          "output_type": "stream",
          "name": "stdout",
          "text": [
            "My training data contains 6751856 rows and 50711 unique words\n"
          ]
        }
      ],
      "source": [
        "print(f'My training data contains {base_df.shape[0]} rows and {len(unique_words)} unique words')"
      ]
    },
    {
      "cell_type": "code",
      "execution_count": 18,
      "id": "aa930b7b",
      "metadata": {
        "id": "aa930b7b"
      },
      "outputs": [],
      "source": [
        "X_train, X_test, y_train, y_test = train_test_split(X, y, test_size=0.2)"
      ]
    },
    {
      "cell_type": "markdown",
      "id": "33402a64",
      "metadata": {
        "id": "33402a64"
      },
      "source": [
        "Now that I have generated my training data, I will instantiate my neural network below.\n",
        "\n",
        "The architecture for training a Word2Vec embedding contains only 3 layers: an input layer, an embedding layer, and the output layer. The goal is to train the model to learn the most informative features in the embedding layer. Note that the output layer needs to be with the same length as the number of unique words, each dimension in the output corresponds to the probability that a certain word appears in the skip grams of the input word.\n",
        "\n",
        "I will specify 100 dimensions for the embedding layer, which means the trained Word2Vec embedding will use an 100-dimension vector to represent each word."
      ]
    },
    {
      "cell_type": "markdown",
      "id": "9a1acd7f",
      "metadata": {
        "id": "9a1acd7f"
      },
      "source": [
        "The architecture is as below:"
      ]
    },
    {
      "cell_type": "code",
      "execution_count": 19,
      "id": "94d3683c",
      "metadata": {
        "id": "94d3683c"
      },
      "outputs": [],
      "source": [
        "model = keras.Sequential()\n",
        "model.add(Embedding(len(unique_words), 100))\n",
        "\n",
        "# Declare the output layer - one output for predicting the probability of class 1\n",
        "model.add(layers.Dense(len(unique_words), activation=\"softmax\"))\n",
        "\n",
        "model.compile(\n",
        "    # Optimizer\n",
        "    optimizer=Adam(),  \n",
        "    # Loss function to minimize\n",
        "    loss='sparse_categorical_crossentropy', \n",
        "    # Metric used to evaluate model\n",
        "    metrics='accuracy'\n",
        ")"
      ]
    },
    {
      "cell_type": "markdown",
      "id": "b000c6eb",
      "metadata": {
        "id": "b000c6eb"
      },
      "source": [
        "I would like to save checkpoints after each epochs, and specify the early stopping rule. In particular, I would like my training to stop early if the validation loss has not improved for 5 epochs. "
      ]
    },
    {
      "cell_type": "code",
      "execution_count": 20,
      "id": "LQ7lvQCTiEvn",
      "metadata": {
        "id": "LQ7lvQCTiEvn"
      },
      "outputs": [],
      "source": [
        "from tensorflow.keras.callbacks import EarlyStopping\n",
        "#Instantiate check point callback to create check points \n",
        "cp_callback = tf.keras.callbacks.ModelCheckpoint(filepath='drive/MyDrive/data/cp_new.ckpt',    \n",
        "                                                 save_weights_only=True,\n",
        "                                                 verbose=1)\n",
        "\n",
        "#Specify rules for early stopping\n",
        "es = EarlyStopping(monitor='val_loss', min_delta=0.001, patience=5) "
      ]
    },
    {
      "cell_type": "markdown",
      "id": "d8a44069",
      "metadata": {
        "id": "d8a44069"
      },
      "source": [
        "Now let's start the training:"
      ]
    },
    {
      "cell_type": "code",
      "execution_count": 21,
      "id": "541f31ca",
      "metadata": {
        "colab": {
          "base_uri": "https://localhost:8080/"
        },
        "id": "541f31ca",
        "outputId": "e9c182bc-870f-4171-a5b2-cce680e9f6b2"
      },
      "outputs": [
        {
          "output_type": "stream",
          "name": "stdout",
          "text": [
            "Epoch 1/30\n",
            "168797/168797 [==============================] - ETA: 0s - loss: 7.1466 - accuracy: 0.0848\n",
            "Epoch 1: saving model to drive/MyDrive/data/cp_new.ckpt\n",
            "168797/168797 [==============================] - 2332s 14ms/step - loss: 7.1466 - accuracy: 0.0848 - val_loss: 7.0712 - val_accuracy: 0.0877\n",
            "Epoch 2/30\n",
            "168794/168797 [============================>.] - ETA: 0s - loss: 6.9526 - accuracy: 0.0904\n",
            "Epoch 2: saving model to drive/MyDrive/data/cp_new.ckpt\n",
            "168797/168797 [==============================] - 2323s 14ms/step - loss: 6.9526 - accuracy: 0.0904 - val_loss: 7.0561 - val_accuracy: 0.0873\n",
            "Epoch 3/30\n",
            "168793/168797 [============================>.] - ETA: 0s - loss: 6.8676 - accuracy: 0.0917\n",
            "Epoch 3: saving model to drive/MyDrive/data/cp_new.ckpt\n",
            "168797/168797 [==============================] - 2322s 14ms/step - loss: 6.8676 - accuracy: 0.0917 - val_loss: 7.0780 - val_accuracy: 0.0878\n",
            "Epoch 4/30\n",
            "168795/168797 [============================>.] - ETA: 0s - loss: 6.8228 - accuracy: 0.0924\n",
            "Epoch 4: saving model to drive/MyDrive/data/cp_new.ckpt\n",
            "168797/168797 [==============================] - 2323s 14ms/step - loss: 6.8228 - accuracy: 0.0924 - val_loss: 7.1033 - val_accuracy: 0.0881\n",
            "Epoch 5/30\n",
            "168793/168797 [============================>.] - ETA: 0s - loss: 6.8003 - accuracy: 0.0929\n",
            "Epoch 5: saving model to drive/MyDrive/data/cp_new.ckpt\n",
            "168797/168797 [==============================] - 2325s 14ms/step - loss: 6.8003 - accuracy: 0.0929 - val_loss: 7.1314 - val_accuracy: 0.0887\n",
            "Epoch 6/30\n",
            "168795/168797 [============================>.] - ETA: 0s - loss: 6.7875 - accuracy: 0.0933\n",
            "Epoch 6: saving model to drive/MyDrive/data/cp_new.ckpt\n",
            "168797/168797 [==============================] - 2323s 14ms/step - loss: 6.7875 - accuracy: 0.0933 - val_loss: 7.1539 - val_accuracy: 0.0883\n",
            "Epoch 7/30\n",
            "168795/168797 [============================>.] - ETA: 0s - loss: 6.7807 - accuracy: 0.0937\n",
            "Epoch 7: saving model to drive/MyDrive/data/cp_new.ckpt\n",
            "168797/168797 [==============================] - 2322s 14ms/step - loss: 6.7807 - accuracy: 0.0937 - val_loss: 7.1729 - val_accuracy: 0.0882\n"
          ]
        }
      ],
      "source": [
        "history = model.fit(X_train, y_train, epochs=30, verbose=1, validation_data=(X_test, y_test), workers=-1, callbacks=[cp_callback, es])"
      ]
    },
    {
      "cell_type": "code",
      "execution_count": 22,
      "id": "04b1f4ed",
      "metadata": {
        "id": "04b1f4ed"
      },
      "outputs": [],
      "source": [
        "model.save('drive/MyDrive/data/my_w2v_model')"
      ]
    },
    {
      "cell_type": "markdown",
      "id": "25102458",
      "metadata": {
        "id": "25102458"
      },
      "source": [
        "The model stopped after 7 epochs. The final accuracy rate for the validation set is 8.82%. Considering that there are 50,711 unique words to predict, I think this score is not too shabby. \n",
        "\n",
        "I will visualize the losses after each epoch below:"
      ]
    },
    {
      "cell_type": "code",
      "execution_count": 23,
      "id": "p9phTDHV0FBj",
      "metadata": {
        "colab": {
          "base_uri": "https://localhost:8080/",
          "height": 409
        },
        "id": "p9phTDHV0FBj",
        "outputId": "bdcbf353-d104-4ab1-e3cc-78c608154343",
        "scrolled": false
      },
      "outputs": [
        {
          "output_type": "display_data",
          "data": {
            "text/plain": [
              "<Figure size 576x432 with 1 Axes>"
            ],
            "image/png": "[encoded data removed]"
          },
          "metadata": {
            "needs_background": "light"
          }
        }
      ],
      "source": [
        "epoch = np.arange(1,8)\n",
        "\n",
        "plt.figure(figsize=(8,6))\n",
        "\n",
        "plt.plot(epoch, history.history['loss'], label='training loss')\n",
        "plt.plot(epoch, history.history['val_loss'], label = 'validation loss')\n",
        "plt.title('Loss across epochs', fontsize = 14)\n",
        "plt.xlabel('Epochs', fontsize = 14)\n",
        "plt.ylabel('Loss', fontsize = 14)\n",
        "sns.despine()\n",
        "plt.legend()\n",
        "\n",
        "plt.show()"
      ]
    },
    {
      "cell_type": "markdown",
      "id": "4ed99409",
      "metadata": {
        "id": "4ed99409"
      },
      "source": [
        "The model seems to start over-fitting after 7 epochs. I will accept the early stopping result.\n",
        "\n",
        "Next, I will save the trained embedding as a dictionary, with the keys being the word and values being the embedding vector."
      ]
    },
    {
      "cell_type": "code",
      "execution_count": 24,
      "id": "iGEqBIQLzeeZ",
      "metadata": {
        "id": "iGEqBIQLzeeZ",
        "colab": {
          "base_uri": "https://localhost:8080/"
        },
        "outputId": "3b422834-b732-4c96-b7dd-5673cb1c9f98"
      },
      "outputs": [
        {
          "output_type": "execute_result",
          "data": {
            "text/plain": [
              "['drive/MyDrive/data/my_own_w2v.pkl']"
            ]
          },
          "metadata": {},
          "execution_count": 24
        }
      ],
      "source": [
        "import joblib\n",
        "#Constructing a dictionary that maps word to vectors\n",
        "my_w2v = dict()\n",
        "\n",
        "for (k, v) in word_to_int.items():\n",
        "    vector = np.array(model.layers[0](v)) #Pass the id into the model and get the trained embedding\n",
        "    my_w2v[k] = vector                    #Map the word to the vector\n",
        "\n",
        "\n",
        "joblib.dump(my_w2v, 'drive/MyDrive/data/my_own_w2v.pkl')"
      ]
    },
    {
      "cell_type": "markdown",
      "id": "dc0dfa4e",
      "metadata": {
        "id": "dc0dfa4e"
      },
      "source": [
        "Now that I have trained and saved my own Word2Vec embedding, it is ready to be used for my modeling. The modeling will start in the next notebook.  "
      ]
    }
  ],
  "metadata": {
    "colab": {
      "collapsed_sections": [],
      "machine_shape": "hm",
      "provenance": []
    },
    "kernelspec": {
      "display_name": "Python 3",
      "name": "python3"
    },
    "language_info": {
      "name": "python"
    },
    "accelerator": "GPU"
  },
  "nbformat": 4,
  "nbformat_minor": 5
}