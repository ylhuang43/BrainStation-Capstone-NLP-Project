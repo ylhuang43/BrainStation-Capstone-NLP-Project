{
 "cells": [
  {
   "cell_type": "markdown",
   "id": "f68218d9",
   "metadata": {},
   "source": [
    "# BrainStation Capstone Project: Predicting Covid News Sentiment with NLP\n",
    "# Part 3: ML Modeling\n",
    "\n",
    "\n",
    "**Date:      9/25/2022**  \n",
    "**Author:  Eugene(Yen-Lin) Huang**  \n",
    "**Part 3 of 3**  \n",
    "**Conda Environment: base**"
   ]
  },
  {
   "cell_type": "markdown",
   "id": "f1fa1f0b",
   "metadata": {
    "id": "f1fa1f0b"
   },
   "source": [
    "In this notebook, I will try to develop different models to predict sentiment of the COVID news articles. I will use the cleaned data in the previous note book. As I mentioned earlier, I will focus on trying different vectorization methods on the article text and see how we can best utilize the text information. In particular, four different vectorization methods are used:\n",
    "\n",
    "- Bag-of-Words Count Vectorization\n",
    "- TF-IDF Vectorization\n",
    "- A Word2Vec embedding trained by my own neural network(Please refer to my previous notebook for more detail) \n",
    "- A more refined embedding implementation(LexVec) trained with full texts from English Wikipedia.  \n",
    "  (This pre-trained embedding is provided to us by BrainStation. The source can be found [here](https://github.com/alexandres/lexvec))\n",
    "\n",
    "For each transformation, I will try several different models with hyperparameter optimization. Finally, after selecting the best performing transformation, I will add other features to the model and run a quick grid search to finalize my modeling.\n",
    "\n",
    "**Warning: Some of the cells in this notebook can run a few hours. Please refrain from running it if you want to read the output I have. Reminders will be given ahead of those cells**\n",
    "\n",
    "Let's start by importing the necessary libraries and loading the data:"
   ]
  },
  {
   "cell_type": "code",
   "execution_count": 1,
   "id": "87997b49",
   "metadata": {
    "id": "87997b49"
   },
   "outputs": [],
   "source": [
    "import numpy as np\n",
    "import pandas as pd\n",
    "import matplotlib.pyplot as plt\n",
    "import seaborn as sns\n",
    "\n",
    "from sklearn.decomposition import PCA\n",
    "from sklearn.model_selection import train_test_split\n",
    "from sklearn.model_selection import cross_val_score\n",
    "from sklearn.model_selection import GridSearchCV\n",
    "from sklearn.model_selection import StratifiedKFold\n",
    "from sklearn.pipeline import Pipeline\n",
    "\n",
    "from sklearn.linear_model import LogisticRegression\n",
    "from sklearn.neighbors import KNeighborsTransformer\n",
    "from sklearn.neighbors import KNeighborsClassifier\n",
    "from sklearn.tree import DecisionTreeClassifier\n",
    "from sklearn.svm import SVC\n",
    "from sklearn.compose import ColumnTransformer\n",
    "from sklearn.preprocessing import OneHotEncoder\n",
    "\n",
    "import warnings\n",
    "warnings.filterwarnings(\"ignore\")\n",
    "import joblib"
   ]
  },
  {
   "cell_type": "markdown",
   "id": "ee644784",
   "metadata": {},
   "source": [
    "The data I used here is the cleaned data from my data cleaning note book. The .csv file can be acquired [here](https://drive.google.com/file/d/1dlXsDPOqUvSK3qAc7RSkyg4psq6jyp9j/view?usp=sharing) "
   ]
  },
  {
   "cell_type": "code",
   "execution_count": 2,
   "id": "dae260ca",
   "metadata": {
    "colab": {
     "base_uri": "https://localhost:8080/",
     "height": 721
    },
    "id": "dae260ca",
    "outputId": "b1e1f2e7-bdef-4e53-e890-411f3a2b318a"
   },
   "outputs": [
    {
     "data": {
      "text/html": [
       "<div>\n",
       "<style scoped>\n",
       "    .dataframe tbody tr th:only-of-type {\n",
       "        vertical-align: middle;\n",
       "    }\n",
       "\n",
       "    .dataframe tbody tr th {\n",
       "        vertical-align: top;\n",
       "    }\n",
       "\n",
       "    .dataframe thead th {\n",
       "        text-align: right;\n",
       "    }\n",
       "</style>\n",
       "<table border=\"1\" class=\"dataframe\">\n",
       "  <thead>\n",
       "    <tr style=\"text-align: right;\">\n",
       "      <th></th>\n",
       "      <th>id</th>\n",
       "      <th>Source</th>\n",
       "      <th>Date</th>\n",
       "      <th>Headline</th>\n",
       "      <th>Author</th>\n",
       "      <th>Main_Location</th>\n",
       "      <th>Language</th>\n",
       "      <th>Body</th>\n",
       "      <th>Sentiment_Body</th>\n",
       "      <th>Sentiment_Body_Score</th>\n",
       "      <th>Sentiment_Title</th>\n",
       "      <th>Sentiment_Title_Score</th>\n",
       "    </tr>\n",
       "  </thead>\n",
       "  <tbody>\n",
       "    <tr>\n",
       "      <th>0</th>\n",
       "      <td>116204</td>\n",
       "      <td>Straits Times</td>\n",
       "      <td>2020-03-29</td>\n",
       "      <td>Coronavirus drives surge in Australia domestic...</td>\n",
       "      <td>unknown</td>\n",
       "      <td>SG</td>\n",
       "      <td>en</td>\n",
       "      <td>SYDNEY (AFP) - Australia on Sunday (March 29) ...</td>\n",
       "      <td>negative</td>\n",
       "      <td>-0.474486</td>\n",
       "      <td>neutral</td>\n",
       "      <td>0.0</td>\n",
       "    </tr>\n",
       "    <tr>\n",
       "      <th>1</th>\n",
       "      <td>824885</td>\n",
       "      <td>Business Standard</td>\n",
       "      <td>2020-05-02</td>\n",
       "      <td>Pilgrims from U'khand can visit Kedarnath from...</td>\n",
       "      <td>Press Trust</td>\n",
       "      <td>IN</td>\n",
       "      <td>en</td>\n",
       "      <td>Pilgrims from Uttarakhand can visit Kedarnath ...</td>\n",
       "      <td>negative</td>\n",
       "      <td>-0.600607</td>\n",
       "      <td>neutral</td>\n",
       "      <td>0.0</td>\n",
       "    </tr>\n",
       "    <tr>\n",
       "      <th>2</th>\n",
       "      <td>376185</td>\n",
       "      <td>Politico</td>\n",
       "      <td>2020-03-11</td>\n",
       "      <td>Exclusive: Email crash impeded HHS response to...</td>\n",
       "      <td>Dan Diamond</td>\n",
       "      <td>US</td>\n",
       "      <td>en</td>\n",
       "      <td>The previously unreported episode was the late...</td>\n",
       "      <td>negative</td>\n",
       "      <td>-0.678111</td>\n",
       "      <td>neutral</td>\n",
       "      <td>0.0</td>\n",
       "    </tr>\n",
       "    <tr>\n",
       "      <th>3</th>\n",
       "      <td>1639298</td>\n",
       "      <td>Reuters</td>\n",
       "      <td>2020-06-03</td>\n",
       "      <td>Citadel hires portfolio managers for credit, s...</td>\n",
       "      <td>Svea Herbst-bayliss</td>\n",
       "      <td>NaN</td>\n",
       "      <td>en</td>\n",
       "      <td>BOSTON, June 3 (Reuters) - Hedge fund Citadel,...</td>\n",
       "      <td>negative</td>\n",
       "      <td>-0.887686</td>\n",
       "      <td>neutral</td>\n",
       "      <td>0.0</td>\n",
       "    </tr>\n",
       "    <tr>\n",
       "      <th>4</th>\n",
       "      <td>96472</td>\n",
       "      <td>Reuters</td>\n",
       "      <td>2020-03-30</td>\n",
       "      <td>Airlines line up furloughs; Air New Zealand se...</td>\n",
       "      <td>Reuters Editorial</td>\n",
       "      <td>NaN</td>\n",
       "      <td>en</td>\n",
       "      <td>(Reuters) - Major global airlines projected la...</td>\n",
       "      <td>negative</td>\n",
       "      <td>-0.997323</td>\n",
       "      <td>neutral</td>\n",
       "      <td>0.0</td>\n",
       "    </tr>\n",
       "  </tbody>\n",
       "</table>\n",
       "</div>"
      ],
      "text/plain": [
       "        id             Source        Date  \\\n",
       "0   116204      Straits Times  2020-03-29   \n",
       "1   824885  Business Standard  2020-05-02   \n",
       "2   376185           Politico  2020-03-11   \n",
       "3  1639298            Reuters  2020-06-03   \n",
       "4    96472            Reuters  2020-03-30   \n",
       "\n",
       "                                            Headline               Author  \\\n",
       "0  Coronavirus drives surge in Australia domestic...              unknown   \n",
       "1  Pilgrims from U'khand can visit Kedarnath from...          Press Trust   \n",
       "2  Exclusive: Email crash impeded HHS response to...          Dan Diamond   \n",
       "3  Citadel hires portfolio managers for credit, s...  Svea Herbst-bayliss   \n",
       "4  Airlines line up furloughs; Air New Zealand se...    Reuters Editorial   \n",
       "\n",
       "  Main_Location Language                                               Body  \\\n",
       "0            SG       en  SYDNEY (AFP) - Australia on Sunday (March 29) ...   \n",
       "1            IN       en  Pilgrims from Uttarakhand can visit Kedarnath ...   \n",
       "2            US       en  The previously unreported episode was the late...   \n",
       "3           NaN       en  BOSTON, June 3 (Reuters) - Hedge fund Citadel,...   \n",
       "4           NaN       en  (Reuters) - Major global airlines projected la...   \n",
       "\n",
       "  Sentiment_Body  Sentiment_Body_Score Sentiment_Title  Sentiment_Title_Score  \n",
       "0       negative             -0.474486         neutral                    0.0  \n",
       "1       negative             -0.600607         neutral                    0.0  \n",
       "2       negative             -0.678111         neutral                    0.0  \n",
       "3       negative             -0.887686         neutral                    0.0  \n",
       "4       negative             -0.997323         neutral                    0.0  "
      ]
     },
     "execution_count": 2,
     "metadata": {},
     "output_type": "execute_result"
    }
   ],
   "source": [
    "covid_df = pd.read_csv('data/Covid_Dataset_Cleaned.csv').drop(columns='Unnamed: 0')\n",
    "covid_df.head()"
   ]
  },
  {
   "cell_type": "markdown",
   "id": "de30cc48",
   "metadata": {
    "id": "de30cc48"
   },
   "source": [
    "Our target column is the article sentiment. It would be nice to take a look of its distribution."
   ]
  },
  {
   "cell_type": "code",
   "execution_count": 3,
   "id": "0ccc5ca3",
   "metadata": {
    "colab": {
     "base_uri": "https://localhost:8080/",
     "height": 426
    },
    "id": "0ccc5ca3",
    "outputId": "a474e6c3-c86f-4d12-820f-2138a715c9cd"
   },
   "outputs": [
    {
     "data": {
      "text/plain": [
       "<function matplotlib.pyplot.show(close=None, block=None)>"
      ]
     },
     "execution_count": 3,
     "metadata": {},
     "output_type": "execute_result"
    },
    {
     "data": {
      "image/png": "[encoded data removed]",
      "text/plain": [
       "<Figure size 576x432 with 1 Axes>"
      ]
     },
     "metadata": {
      "needs_background": "light"
     },
     "output_type": "display_data"
    }
   ],
   "source": [
    "#caculate the fraction of articles in each category\n",
    "sentiment_dist = covid_df['Sentiment_Body'].value_counts()/covid_df['Sentiment_Body'].shape[0]\n",
    "\n",
    "#plotting the distribution of articles\n",
    "plt.figure(figsize=(8,6))\n",
    "plt.bar(covid_df['Sentiment_Body'].value_counts().index, sentiment_dist*100)\n",
    "plt.xlabel('Sentiment', fontsize=14)\n",
    "plt.ylabel('Percentage of Articles(%)', fontsize=14)\n",
    "plt.title('Body Sentiment Distribution', fontsize=14)\n",
    "plt.show"
   ]
  },
  {
   "cell_type": "markdown",
   "id": "67f292eb",
   "metadata": {
    "id": "67f292eb"
   },
   "source": [
    "Our target variable is not exactly balanced but also not extremely imbalanced. There is no single category exceeds 50% of the articles. Also, there is no specific reasons indicating whether we should care more about false positive or false negative for each categories. Therefore, during my model optimization, I will use the overall accuracy as my evaluation metric, although I will report the confusion matrix for my final model.\n",
    "\n",
    "I will first use only the body text of the article to see how good a result we can get just by using that. The first vectorization method I would like to try is the simple bag-of-words model, which vectorizes the article by counting how many times individual words appeared in the article."
   ]
  },
  {
   "cell_type": "markdown",
   "id": "f11f9358",
   "metadata": {
    "id": "f11f9358"
   },
   "source": [
    "## The Bag of Words Model "
   ]
  },
  {
   "cell_type": "code",
   "execution_count": 3,
   "id": "cdac6d28",
   "metadata": {
    "id": "cdac6d28"
   },
   "outputs": [],
   "source": [
    "X = covid_df['Body']\n",
    "y = covid_df['Sentiment_Body'].map({'negative': 0,\n",
    "                                    'neutral': 1,\n",
    "                                    'positive': 2})\n",
    "\n",
    "X_train, X_test, y_train, y_test = train_test_split(X, y, test_size=0.33, stratify=y)"
   ]
  },
  {
   "cell_type": "markdown",
   "id": "d31976f2",
   "metadata": {
    "id": "d31976f2"
   },
   "source": [
    "I will make sure the train/test split is stratified properly. "
   ]
  },
  {
   "cell_type": "code",
   "execution_count": 5,
   "id": "b4002b77",
   "metadata": {
    "colab": {
     "base_uri": "https://localhost:8080/"
    },
    "id": "b4002b77",
    "outputId": "d16d29d8-5d7d-43ca-c2cb-6785e1f1f4df"
   },
   "outputs": [
    {
     "name": "stdout",
     "output_type": "stream",
     "text": [
      "Percent of articles with sentiment=0 is 0.43904336406977074 in the training set, and 0.43904047063596713 in the testing set\n",
      "Percent of articles with sentiment=1 is 0.16652273830254932 in the training set, and 0.16651935142654284 in the testing set\n",
      "Percent of articles with sentiment=2 is 0.39443389762767994 in the training set, and 0.39444017793749003 in the testing set\n"
     ]
    }
   ],
   "source": [
    "for i in [0,1,2]:\n",
    "    percent_train = len(y_train[y_train==i])/y_train.shape[0]\n",
    "    percent_test = len(y_test[y_test==i])/y_test.shape[0]\n",
    "    print(f'Percent of articles with sentiment={i} is {percent_train} in the training set, and {percent_test} in the testing set')"
   ]
  },
  {
   "cell_type": "markdown",
   "id": "5b2a9b96",
   "metadata": {
    "id": "5b2a9b96"
   },
   "source": [
    "I will now vectorize the text and fit a simple Logistic Regression to the model. The result would be the baseline performance we should expect when I proceed with my modeling.  \n",
    "\n",
    "Vectorize my X_train and X_test:"
   ]
  },
  {
   "cell_type": "code",
   "execution_count": 4,
   "id": "d0a13cbc",
   "metadata": {
    "id": "d0a13cbc"
   },
   "outputs": [],
   "source": [
    "from sklearn.feature_extraction.text import CountVectorizer"
   ]
  },
  {
   "cell_type": "code",
   "execution_count": 15,
   "id": "9a6ac92f",
   "metadata": {
    "id": "9a6ac92f"
   },
   "outputs": [],
   "source": [
    "# 1. Instantiate\n",
    "bagofwords = CountVectorizer(stop_words='english', min_df=0.005) #restrict focus on the words appearing in at least 0.5% of the articles\n",
    "\n",
    "# 2. Fit\n",
    "bagofwords.fit(X_train)\n",
    "\n",
    "# 3. Transform\n",
    "X_train_transformed = bagofwords.transform(X_train)\n",
    "X_test_transformed = bagofwords.transform(X_test)"
   ]
  },
  {
   "cell_type": "code",
   "execution_count": 16,
   "id": "b2155204",
   "metadata": {
    "colab": {
     "base_uri": "https://localhost:8080/"
    },
    "id": "b2155204",
    "outputId": "244851e2-9ed3-41df-fc65-ad790480c187"
   },
   "outputs": [
    {
     "name": "stdout",
     "output_type": "stream",
     "text": [
      "The transformed X_train now contain 5485 features/words. \n",
      "\n",
      "The 20 words with top appearnce frequecies are:\n",
      "\"said\" \"coronavirus\" \"people\" \"covid\" \"19\" \"new\" \"year\" \"health\" \"time\" \"pandemic\" \"cases\" \"like\" \"government\" \"just\" \"home\" \"virus\" \"million\" \"state\" \"2020\" \"000\" \"day\" \"company\" \"going\" \"world\" \"work\" \"china\" \"week\" \"march\" \"business\" \"country\" \"public\" \"need\" \"market\" \"think\" \"number\" \"president\" \"news\" \"trump\" \"including\" \"help\" \"make\" \"told\" \"according\" \"10\" \"social\" \"don\" \"city\" \"ve\" \"outbreak\" \"lockdown\" "
     ]
    }
   ],
   "source": [
    "counts = np.array(X_train_transformed.sum(axis = 0))\n",
    "\n",
    "word_counts = pd.DataFrame(\n",
    "    {\"counts\": counts[0]},\n",
    "    index=bagofwords.get_feature_names_out()\n",
    ").sort_values(\"counts\", ascending=False)\n",
    "\n",
    "print(f'The transformed X_train now contain {len(bagofwords.get_feature_names_out())} features/words. \\n')\n",
    "print('The 20 words with top appearnce frequecies are:')\n",
    "\n",
    "for i in range(0,50):\n",
    "    print(f'\\\"{word_counts.index[i]}\\\"', end=' ')"
   ]
  },
  {
   "cell_type": "markdown",
   "id": "fc0bbd59",
   "metadata": {
    "id": "fc0bbd59"
   },
   "source": [
    "### 1. Logistic Regression\n",
    "\n",
    "I will now develop a Logistic Regression model as my baseline. Since all features created by CountVectorizer is in the same unit (number of appearances), I do not need to scale the features here."
   ]
  },
  {
   "cell_type": "code",
   "execution_count": 17,
   "id": "e40ad3df",
   "metadata": {
    "colab": {
     "base_uri": "https://localhost:8080/"
    },
    "id": "e40ad3df",
    "outputId": "232368bc-1791-4d9a-d9d3-2855996778ea",
    "scrolled": false
   },
   "outputs": [
    {
     "name": "stdout",
     "output_type": "stream",
     "text": [
      "The accuracy for my first Logistic Regression is: 0.646059438076884\n"
     ]
    }
   ],
   "source": [
    "lm = LogisticRegression()\n",
    "lm.fit(X_train_transformed, y_train)\n",
    "score = lm.score(X_test_transformed, y_test)\n",
    "\n",
    "print(f'The accuracy for my first Logistic Regression is: {score}')"
   ]
  },
  {
   "cell_type": "markdown",
   "id": "788c7164",
   "metadata": {
    "id": "788c7164"
   },
   "source": [
    "The performance of my first model looks decent. However, there is potential to further improve it by fine-tuning the regularization hyperparameter. The regularization parameter specifies our choice regarding the bias-variance trade off. A strong regularization penalty prevent the model from over-fitting the trained data(higher bias), with the hope that the model would be more generalizable(lower variance), while weaker regularization let the model fit more closely to the training data(lower bias) but increase the risk of producing less generalizable results (higher variance).      \n",
    "\n",
    "In the case of Logistic Regression, the strength of regularization is specified by C, which is negatively related to the regularization penalty. In order to fine-tune the regularization penalty C, I will create a validation set and re-train the model."
   ]
  },
  {
   "cell_type": "code",
   "execution_count": 18,
   "id": "7602bf62",
   "metadata": {
    "colab": {
     "base_uri": "https://localhost:8080/"
    },
    "id": "7602bf62",
    "outputId": "55beee44-ca77-42b4-d9d9-bf68bb15548b"
   },
   "outputs": [],
   "source": [
    "#recreate the training set(or the remainder set) from original data\n",
    "X_remainder, X_test, y_remainder, y_test = train_test_split(X, y, test_size=0.33, stratify=y)\n",
    "#create validation set\n",
    "X_train, X_val, y_train, y_val = train_test_split(X_remainder, y_remainder, test_size=0.20, stratify= y_remainder) \n",
    "\n",
    "#fit the count vactorizer to the training set, then transform the validation set\n",
    "bagofwords = CountVectorizer(stop_words='english', min_df=0.005)\n",
    "bagofwords.fit(X_train)\n",
    "X_train_transformed = bagofwords.transform(X_train)\n",
    "X_val_transformed = bagofwords.transform(X_val)\n",
    "\n",
    "#instantiate emty list to store model scores\n",
    "train_accur = list()\n",
    "validation_accur = list()\n",
    "Cs = [10**i for i in range(-4,5)] #different Cs I would like to try\n",
    "\n",
    "#try different Cs and store the model performance\n",
    "for c in Cs:\n",
    "    #train and score the model \n",
    "    lm = LogisticRegression(C=c)\n",
    "    lm.fit(X_train_transformed, y_train)\n",
    "    train_score = lm.score(X_train_transformed, y_train)\n",
    "    val_score = lm.score(X_val_transformed, y_val)\n",
    "    \n",
    "    train_accur.append(train_score)\n",
    "    validation_accur.append(val_score)"
   ]
  },
  {
   "cell_type": "markdown",
   "id": "36d1b5f9",
   "metadata": {},
   "source": [
    "I will now visualize the model performance in training/validation sets: "
   ]
  },
  {
   "cell_type": "code",
   "execution_count": 19,
   "id": "a2df4c70",
   "metadata": {
    "colab": {
     "base_uri": "https://localhost:8080/",
     "height": 413
    },
    "id": "a2df4c70",
    "outputId": "f7fed8f6-e82d-4c64-f5a4-8a1e41103740"
   },
   "outputs": [
    {
     "data": {
      "image/png": "[encoded data removed]",
      "text/plain": [
       "<Figure size 576x432 with 1 Axes>"
      ]
     },
     "metadata": {
      "needs_background": "light"
     },
     "output_type": "display_data"
    }
   ],
   "source": [
    "plt.figure(figsize=(8,6))\n",
    "\n",
    "plt.plot(Cs, train_accur, label='training accuracy')          #Plotting training accruacy\n",
    "plt.plot(Cs, validation_accur, label='validation accuracy')   #Plotting validation accruacy\n",
    "plt.xscale('log') #Rescale the X-axis \n",
    "plt.xticks(Cs)\n",
    "plt.xlabel('Regularization Penalty(C)', fontsize=14)\n",
    "plt.ylabel('Accuracy', fontsize=14)\n",
    "plt.title('Model Prformances for Different Cs', fontsize=14)\n",
    "plt.legend()\n",
    "plt.ylim((0.6,0.7))\n",
    "\n",
    "plt.show()"
   ]
  },
  {
   "cell_type": "markdown",
   "id": "e50e2fc8",
   "metadata": {
    "id": "e50e2fc8"
   },
   "source": [
    "Model performances are similar across different Cs, but the validation score is slightly higher for C=0.001, which indicates a pretty strong regularization. Also, there does not seem to be a serious over-fitting problem as all accuracy scores are not too far apart between the training and validation sets. I will now use C=0.001 as my baseline model."
   ]
  },
  {
   "cell_type": "code",
   "execution_count": 42,
   "id": "69033ca6",
   "metadata": {
    "colab": {
     "base_uri": "https://localhost:8080/"
    },
    "id": "69033ca6",
    "outputId": "40dc1d67-a1f9-4322-fda6-fc9bc0414ae4"
   },
   "outputs": [
    {
     "name": "stdout",
     "output_type": "stream",
     "text": [
      "The accuracy for my baseline Logistic Regression is: 64.75%\n"
     ]
    }
   ],
   "source": [
    "bagofwords = CountVectorizer(stop_words='english', min_df=0.005)\n",
    "bagofwords.fit(X_remainder)\n",
    "X_remainder_transformed = bagofwords.transform(X_remainder)\n",
    "X_test_transformed = bagofwords.transform(X_test)\n",
    "\n",
    "lm = LogisticRegression(C=0.001)\n",
    "lm.fit(X_remainder_transformed, y_remainder)\n",
    "score = lm.score(X_test_transformed, y_test)\n",
    "\n",
    "print(f'The accuracy for my baseline Logistic Regression is: {round(score*100, 2)}%')"
   ]
  },
  {
   "cell_type": "markdown",
   "id": "d3e62e6e",
   "metadata": {
    "id": "d3e62e6e"
   },
   "source": [
    "The model performance is slightly better than my first model. I will create visualizations below to show the most predictive words for each categories. The cell below defines a function for the task."
   ]
  },
  {
   "cell_type": "code",
   "execution_count": 42,
   "id": "5f9ffaf6",
   "metadata": {},
   "outputs": [],
   "source": [
    "def vis_logit_coef(coef, vector, sentiment):\n",
    "    '''\n",
    "    The function visualize the best predicting coefficients for the specified sentiment\n",
    "    \n",
    "    The \"coef\" imput should be the lm.coef_ matrix generated by the logit model.\n",
    "    The \"vector\" imput is the name of the vectorization method used. This imput is used to extract coefficient names.\n",
    "    \n",
    "    '''\n",
    "    sentlist = ['negative', 'neutral', 'positive']\n",
    "    assert sentiment in sentlist, 'Unrecognized Sentiment Category'\n",
    "    \n",
    "    sent2int = dict()\n",
    "    for i, j in enumerate(['negative', 'neutral', 'positive']):\n",
    "        sent2int[j] = i\n",
    "    \n",
    "    df = pd.DataFrame(data ={'factor': np.exp(coef[sent2int[sentiment]])},\n",
    "                          index = vector.get_feature_names_out()).sort_values(by='factor', ascending=False).head(10)\n",
    "    \n",
    "    plt.figure(figsize=(8,6))\n",
    "\n",
    "    sorted_df = df.sort_values(by='factor')\n",
    "    plt.barh(sorted_df.index, sorted_df['factor'])\n",
    "    plt.title(f'Top words associated with {sentiment} sentiment', fontsize=14)\n",
    "    plt.xlabel('Probability Factor from Logistic Regression', fontsize=14)\n",
    "\n",
    "    plt.show()"
   ]
  },
  {
   "cell_type": "code",
   "execution_count": 28,
   "id": "69e5f636",
   "metadata": {
    "scrolled": false
   },
   "outputs": [
    {
     "data": {
      "image/png": "[encoded data removed]",
      "text/plain": [
       "<Figure size 576x432 with 1 Axes>"
      ]
     },
     "metadata": {
      "needs_background": "light"
     },
     "output_type": "display_data"
    }
   ],
   "source": [
    "vis_logit_coef(lm.coef_, bagofwords, 'negative')"
   ]
  },
  {
   "cell_type": "code",
   "execution_count": 29,
   "id": "72be7f63",
   "metadata": {
    "scrolled": false
   },
   "outputs": [
    {
     "data": {
      "image/png": "[encoded data removed]",
      "text/plain": [
       "<Figure size 576x432 with 1 Axes>"
      ]
     },
     "metadata": {
      "needs_background": "light"
     },
     "output_type": "display_data"
    }
   ],
   "source": [
    "vis_logit_coef(lm.coef_, bagofwords, 'neutral')"
   ]
  },
  {
   "cell_type": "code",
   "execution_count": 30,
   "id": "0c25e1c0",
   "metadata": {},
   "outputs": [
    {
     "data": {
      "image/png": "[encoded data removed]",
      "text/plain": [
       "<Figure size 576x432 with 1 Axes>"
      ]
     },
     "metadata": {
      "needs_background": "light"
     },
     "output_type": "display_data"
    }
   ],
   "source": [
    "vis_logit_coef(lm.coef_, bagofwords, 'positive')"
   ]
  },
  {
   "cell_type": "markdown",
   "id": "359049e9",
   "metadata": {
    "id": "359049e9"
   },
   "source": [
    "The above graphs shows the words that are most strongly associated with each sentiment categories. For example, if the word `cancelled` has one more appearance in the article, the chance that the article has a negative sentiment will increase by 1.4 times. \n",
    "\n",
    "The top 5 words that predict a positive sentiment are: `ease`, `helps`, `love`, `happy`, `gives`  \n",
    "The top 5 words that predict a neutral sentiment are: `http`, `stars`, `average`, `rt`, `rating`  \n",
    "The top 5 words that predict a negative sentiment are: `cancelled`, `worst`, `refused`, `returning`, `failed` "
   ]
  },
  {
   "cell_type": "markdown",
   "id": "2c6f6b53",
   "metadata": {
    "id": "2c6f6b53"
   },
   "source": [
    "### 2. KNN Model\n",
    "\n",
    "I will now try to fit the KNN model to the vectorized article texts and see how it performs comparing with the Logistic Regression. KNN models predict the category of an observation by looking at the \"closest\" data points around it, therefore, how to measure the distance between data points is important to its performance. I first try to fit the model using cosine similarity. Comparing with Euclidean distance, cosine similarity can better capture the \"trend\" of whether certain words appears together in the article. I would expect this kinds of distance measure can better capture the similarity between article context.\n",
    "\n",
    "Since KNN is computationally expensive, I will first apply Latent Semantic Analysis(LSA) to reduce the number of dimensions of my data. LSA is a dimension-reduction technique similar to PCA but is more applicable under the context of NLP and word count vectors. More importantly, PCA method in Sklearn does not work with sparse matrices, while the Truncated SVD algorithm for LSA does. I will follow the steps below to fine-tune the hyperparameter:\n",
    "\n",
    "- train/validation split\n",
    "- vectorize the body text\n",
    "- apply LSA\n",
    "- Calculate the distances between data points(for both training and validation sets)\n",
    "- try different Ks and report the scores"
   ]
  },
  {
   "cell_type": "code",
   "execution_count": 8,
   "id": "e0fbfa61",
   "metadata": {
    "id": "e0fbfa61"
   },
   "outputs": [],
   "source": [
    "X_train, X_val, y_train, y_val = train_test_split(X_remainder, y_remainder, test_size=0.20, stratify= y_remainder) \n",
    "\n",
    "#Vectorize the body text\n",
    "bagofwords = CountVectorizer(stop_words='english', min_df=0.005)\n",
    "bagofwords.fit(X_train)\n",
    "X_train_transformed = bagofwords.transform(X_train)\n",
    "X_val_transformed = bagofwords.transform(X_val)"
   ]
  },
  {
   "cell_type": "markdown",
   "id": "6dbc1a78",
   "metadata": {
    "id": "6dbc1a78"
   },
   "source": [
    "Now that I have split the data, I will decide on the number of dimensions I want to keep so that my data can still retain at least 90% of the variance. I will try to keep 2000 features at first and visualize the cumulated explained variance below. "
   ]
  },
  {
   "cell_type": "code",
   "execution_count": 7,
   "id": "0Ifavn9P6hDq",
   "metadata": {
    "id": "0Ifavn9P6hDq"
   },
   "outputs": [],
   "source": [
    "from sklearn.decomposition import TruncatedSVD"
   ]
  },
  {
   "cell_type": "markdown",
   "id": "f5450622",
   "metadata": {},
   "source": [
    "**Note: It takes about 20 minutes for me to run the cell below** "
   ]
  },
  {
   "cell_type": "code",
   "execution_count": 10,
   "id": "27cf87d1",
   "metadata": {
    "id": "27cf87d1"
   },
   "outputs": [],
   "source": [
    "LSA = TruncatedSVD(n_components=2000) #Instantiate LSA with 2000 fetures\n",
    "LSA.fit(X_train_transformed)\n",
    "#transform the data with the fitted LSA\n",
    "X_train_LSA = LSA.transform(X_train_transformed)\n",
    "X_val_LSA = LSA.transform(X_val_transformed)"
   ]
  },
  {
   "cell_type": "code",
   "execution_count": 11,
   "id": "2d34267c",
   "metadata": {
    "colab": {
     "base_uri": "https://localhost:8080/",
     "height": 441
    },
    "id": "2d34267c",
    "outputId": "75748515-dc31-455c-8f98-572f95682e37",
    "scrolled": false
   },
   "outputs": [
    {
     "data": {
      "image/png": "[encoded data removed]",
      "text/plain": [
       "<Figure size 576x432 with 1 Axes>"
      ]
     },
     "metadata": {
      "needs_background": "light"
     },
     "output_type": "display_data"
    },
    {
     "name": "stdout",
     "output_type": "stream",
     "text": [
      "The minimum number of feature that captures at least 90% of the variance is 1874\n"
     ]
    }
   ],
   "source": [
    "# Plot out the cumulative explained variance\n",
    "cumulative_sum = np.cumsum(LSA.explained_variance_ratio_)\n",
    "\n",
    "plt.figure(figsize=(8,6))\n",
    "plt.plot(range(1,2001), cumulative_sum, marker='.')\n",
    "plt.axhline(0.9, c='r', linestyle='--')\n",
    "plt.xlabel('Number of features', fontsize=14)\n",
    "plt.ylabel('Cumulative Sum of Explained Variance', fontsize=14)\n",
    "plt.xticks(range(1,2001,100), rotation = 45)\n",
    "plt.title('Number of Features and Cumulated Explained Variance', fontsize=14)\n",
    "plt.show()\n",
    "\n",
    "print(f'The minimum number of feature that captures at least 90% of the variance is {np.where(cumulative_sum>=0.9)[0][0]}')"
   ]
  },
  {
   "cell_type": "markdown",
   "id": "92a2e568",
   "metadata": {
    "id": "92a2e568"
   },
   "source": [
    "As the above graph shows, keeping 1,874 features will allow me to retain 90% of the variance in my dataset. I will reduce the dimension of X to 1,874 features."
   ]
  },
  {
   "cell_type": "code",
   "execution_count": 12,
   "id": "6ff71875",
   "metadata": {
    "id": "6ff71875"
   },
   "outputs": [],
   "source": [
    "#Apply the LSA with 1,847 features to my data\n",
    "LSA = TruncatedSVD(n_components=1874)\n",
    "LSA.fit(X_train_transformed)\n",
    "X_train_LSA = LSA.transform(X_train_transformed)\n",
    "X_val_LSA = LSA.transform(X_val_transformed)"
   ]
  },
  {
   "cell_type": "markdown",
   "id": "c5d4f4d9",
   "metadata": {
    "id": "c5d4f4d9"
   },
   "source": [
    "Since KNN is computationally heavy, it is more efficient to calculate the the distance between all data points. Once the distances are calculated, it can be used to fit models with different Ks relatively fast. The cell below calculates and stores the distances(cosine similarity between different data points). Note that this needs to be done for both training and validation sets.\n",
    "\n",
    "**Note: The following cell runs for more than an hour on my laptop**"
   ]
  },
  {
   "cell_type": "code",
   "execution_count": 13,
   "id": "b5fa1b50",
   "metadata": {
    "id": "b5fa1b50"
   },
   "outputs": [],
   "source": [
    "#Calculate all the distances between data points and stores the top 40 closest distance\n",
    "K_transform = KNeighborsTransformer(n_neighbors=40, metric='cosine')\n",
    "K_transform.fit(X_train_LSA)\n",
    "#storing the pre-caluclated distances in matrices\n",
    "X_Distance_train = K_transform.transform(X_train_LSA)\n",
    "X_Distance_val = K_transform.transform(X_val_LSA)"
   ]
  },
  {
   "cell_type": "markdown",
   "id": "5c6e5d4b",
   "metadata": {
    "id": "5c6e5d4b"
   },
   "source": [
    "Now that the distances between data points are stored, they can be used to fit KNN models with different Ks."
   ]
  },
  {
   "cell_type": "code",
   "execution_count": 14,
   "id": "d8085e3c",
   "metadata": {
    "id": "d8085e3c"
   },
   "outputs": [],
   "source": [
    "train_accur = list()\n",
    "validation_accur = list()\n",
    "Ks = range(1,41)\n",
    "\n",
    "for k in Ks:  \n",
    "    my_KNN = KNeighborsClassifier(n_neighbors=k, metric='precomputed') # 'precomputed' metric allows us to use the calculated distances \n",
    "    my_KNN.fit(X_Distance_train, y_train)\n",
    "    #calculate the training and validation scores \n",
    "    training_acc = my_KNN.score(X_Distance_train, y_train)\n",
    "    validation_acc = my_KNN.score(X_Distance_val, y_val)\n",
    "    \n",
    "    #append the training and validation scores \n",
    "    train_accur.append(training_acc)\n",
    "    validation_accur.append(validation_acc)"
   ]
  },
  {
   "cell_type": "markdown",
   "id": "60d3ce34",
   "metadata": {
    "id": "60d3ce34"
   },
   "source": [
    "Models with K from 1 to 40 are fitted. The performances are visualized below:"
   ]
  },
  {
   "cell_type": "code",
   "execution_count": 15,
   "id": "6ec24c1d",
   "metadata": {
    "colab": {
     "base_uri": "https://localhost:8080/",
     "height": 408
    },
    "id": "6ec24c1d",
    "outputId": "88c123d1-7f29-4329-f6bf-082dacd4d9d4",
    "scrolled": false
   },
   "outputs": [
    {
     "data": {
      "image/png": "[encoded data removed]",
      "text/plain": [
       "<Figure size 576x432 with 1 Axes>"
      ]
     },
     "metadata": {
      "needs_background": "light"
     },
     "output_type": "display_data"
    }
   ],
   "source": [
    "#plot the performances\n",
    "plt.figure(figsize=(8,6))\n",
    "\n",
    "plt.plot(Ks, train_accur, label='training accuracy')\n",
    "plt.plot(Ks, validation_accur, label='validation accuracy')\n",
    "plt.xticks(Ks)\n",
    "plt.xlabel('Number of Neighbors(K)', fontsize=14)\n",
    "plt.ylabel('Accuracy', fontsize=14)\n",
    "plt.xticks([i for i in 2*np.arange(1,21)])\n",
    "plt.title('KNN Model Performance for Different Ks')\n",
    "plt.legend()\n",
    "\n",
    "plt.show()"
   ]
  },
  {
   "cell_type": "markdown",
   "id": "fef11145",
   "metadata": {
    "id": "fef11145"
   },
   "source": [
    "From K=10 to K=40, the validation accuracy only slightly increased, although there seems to be less overfitting issues with larger Ks. To balance the model performance and my computational power, I will choose K=20 and refit the model on my full training set. I will use the vectorized X_remainder_transformed created earlier when I ran my Logistic Regression, fitted the LSA, and then fit the KNN model with K=20:"
   ]
  },
  {
   "cell_type": "code",
   "execution_count": 20,
   "id": "411b1e4c",
   "metadata": {
    "id": "411b1e4c"
   },
   "outputs": [],
   "source": [
    "#Re-apply the LSA for the full remainder data, which is now my training set\n",
    "LSA = TruncatedSVD(n_components=1874)\n",
    "LSA.fit(X_remainder_transformed )\n",
    "X_remainder_LSA = LSA.transform(X_remainder_transformed )\n",
    "X_test_LSA = LSA.transform(X_test_transformed)\n",
    "\n",
    "#Fit and score the KNN model\n",
    "my_KNN = KNeighborsClassifier(n_neighbors=20, metric='cosine')\n",
    "my_KNN.fit(X_remainder_LSA, y_remainder)\n",
    "test_acc = my_KNN.score(X_test_LSA, y_test)"
   ]
  },
  {
   "cell_type": "code",
   "execution_count": 21,
   "id": "523d36fe",
   "metadata": {
    "colab": {
     "base_uri": "https://localhost:8080/"
    },
    "id": "523d36fe",
    "outputId": "296e3427-8c45-45b4-abfb-d020c16584b1"
   },
   "outputs": [
    {
     "name": "stdout",
     "output_type": "stream",
     "text": [
      "The accuracy score for my KNN model is 56.25%\n"
     ]
    }
   ],
   "source": [
    "print(f'The accuracy score for my KNN model is {round(test_acc*100, 2)}%')"
   ]
  },
  {
   "cell_type": "markdown",
   "id": "91cc36ce",
   "metadata": {
    "id": "91cc36ce"
   },
   "source": [
    "Even though the KNN model is significantly more expensive computationally, it does not perform better than the Logistic Regression. I will now try a decision tree model and see how it performs."
   ]
  },
  {
   "cell_type": "markdown",
   "id": "b5a66b72",
   "metadata": {},
   "source": [
    "### 3. Decision Tree Model\n",
    "\n",
    "I will now try to fit a decision tree model. Similar to the above, I will first use the train/validation sets to optimize the hyper parameter. Moreover, I will use cross-validation for a more robust hyper parameter selection process.\n",
    "\n",
    "In a cross-validation process, multiple train/validation splits are created for the same hyperparameter. The model performance scores are averaged across different split as an evaluation of the model for a specific hyperparameter. Finally, the best hyperharameter is chosen after inspecting the train/validation performances. "
   ]
  },
  {
   "cell_type": "markdown",
   "id": "e835bdda",
   "metadata": {},
   "source": [
    "In order to avoid potential information leakage, it is best practice to refit the CountVectorizer for every training set from different splits rather than fitting on the whole \"remainder\" set and do multiple train-test splits afterwards. I will write a pipeline and utilize grid search to facilitate this process. "
   ]
  },
  {
   "cell_type": "code",
   "execution_count": 12,
   "id": "84c003b5",
   "metadata": {},
   "outputs": [],
   "source": [
    "#Define my pipeline for each train/validation split:\n",
    "\n",
    "#For each train/validation split, I will fit CountVectorizer() on the traning set, transform the traning set and fit the model, \n",
    "#then transform the validation set and evaluate the scores.\n",
    "estimators = [('Vectorizer', CountVectorizer(stop_words='english', min_df=0.005)),\n",
    "              ('model', DecisionTreeClassifier())]\n",
    "    \n",
    "my_pipe = Pipeline(estimators)"
   ]
  },
  {
   "cell_type": "markdown",
   "id": "9dd4870a",
   "metadata": {},
   "source": [
    "Now that I've specified the procedures in my pipeline, I will instantiate the grid search.\n",
    "\n",
    "The GridSearchCV object allow us to specify multiple hyperparameters and search for the best. For each parameter, it create 5 different train/validation splits and calculate the average performance. For the decision tree, the hyperparameter to be optimized is max_depth. This is again a bias-variance trade off. With a large depth, decision trees tend to over-fit and produce less generalizable result, but when the depth is too small, we are not utilizing enough information in the training set. "
   ]
  },
  {
   "cell_type": "code",
   "execution_count": 38,
   "id": "284ab7bb",
   "metadata": {
    "id": "284ab7bb"
   },
   "outputs": [],
   "source": [
    "#Define the parameters to be searched during the cross-validation  \n",
    "params = {'model__max_depth': [i*2 for i in range(1,11)]}\n",
    "skf = StratifiedKFold(n_splits=5) #used in the grid to create stratified splits\n",
    "\n",
    "my_grid = GridSearchCV(my_pipe, param_grid=params, cv=skf, return_train_score=True, n_jobs=-1) #Instantiate the grid\n",
    "\n",
    "fittedgrid_tree = my_grid.fit(X_remainder, y_remainder) #fit the grid"
   ]
  },
  {
   "cell_type": "code",
   "execution_count": 60,
   "id": "dfb66cbd",
   "metadata": {},
   "outputs": [
    {
     "name": "stdout",
     "output_type": "stream",
     "text": [
      "The best performing max_depth for the validation set is: 14\n"
     ]
    }
   ],
   "source": [
    "print(f\"The best performing max_depth for the validation set is: {fittedgrid_tree.best_params_['model__max_depth']}\")"
   ]
  },
  {
   "cell_type": "markdown",
   "id": "57a64738",
   "metadata": {},
   "source": [
    "The Decision Tree with max_depth=14 has the best testing set performance."
   ]
  },
  {
   "cell_type": "code",
   "execution_count": 67,
   "id": "4545e402",
   "metadata": {},
   "outputs": [
    {
     "name": "stdout",
     "output_type": "stream",
     "text": [
      "Average Training score for this specification is: 58.98%\n",
      "Average Testing score for this specification is: 54.17%\n",
      "The difference is 4.81%\n"
     ]
    }
   ],
   "source": [
    "trainscore14 = 100*fittedgrid_tree.cv_results_['mean_train_score'][6] #average training score for max_depth=14\n",
    "valscore14 = 100*fittedgrid_tree.cv_results_['mean_test_score'][6] #average validation score for max_depth=14\n",
    "\n",
    "print(f\"Average Training score for this specification is: {trainscore14.round(2)}%\")\n",
    "print(f\"Average Testing score for this specification is: {valscore14.round(2)}%\")\n",
    "print(f\"The difference is {(trainscore14-valscore14).round(2)}%\")"
   ]
  },
  {
   "cell_type": "markdown",
   "id": "77db7c3a",
   "metadata": {},
   "source": [
    "Different scores for different tree depths are visualized below: "
   ]
  },
  {
   "cell_type": "code",
   "execution_count": 71,
   "id": "56d663e9",
   "metadata": {},
   "outputs": [
    {
     "data": {
      "image/png": "[encoded data removed]",
      "text/plain": [
       "<Figure size 576x432 with 1 Axes>"
      ]
     },
     "metadata": {
      "needs_background": "light"
     },
     "output_type": "display_data"
    }
   ],
   "source": [
    "#extract the average train and validation scores from the fitted search result\n",
    "mean_train = fittedgrid_tree.cv_results_['mean_train_score']\n",
    "mean_val = fittedgrid_tree.cv_results_['mean_test_score']\n",
    "\n",
    "plt.figure(figsize=(8,6))\n",
    "plt.plot([i*2 for i in range(1,11)], mean_train*100, marker='.', label='training')\n",
    "plt.plot([i*2 for i in range(1,11)], mean_val*100, marker='.', label='validation')\n",
    "plt.xticks([i*2 for i in range(1,11)])\n",
    "plt.xlabel('Max_Depth', fontsize=14)\n",
    "plt.ylabel('Model Accuracy', fontsize=14)\n",
    "plt.title('Model Accuracy with Different Depths', fontsize=14)\n",
    "plt.legend()\n",
    "plt.show()\n"
   ]
  },
  {
   "cell_type": "markdown",
   "id": "05583c97",
   "metadata": {},
   "source": [
    "The performance of the validation set is optimized at max_depth = 14, and there doesn't seem to be serious overfitting issues as the training set performance is only 4.81% higher than the validation set. The examination below will proceed with this hyperparameter and see how it performs on the testing set."
   ]
  },
  {
   "cell_type": "code",
   "execution_count": 10,
   "id": "129630d4",
   "metadata": {},
   "outputs": [],
   "source": [
    "#Vectorize the body text\n",
    "bagofwords = CountVectorizer(stop_words='english', min_df=0.005)\n",
    "bagofwords.fit(X_remainder)\n",
    "X_rem_transformed = bagofwords.transform(X_remainder)\n",
    "X_test_transformed = bagofwords.transform(X_test)"
   ]
  },
  {
   "cell_type": "code",
   "execution_count": 11,
   "id": "0fe5ebef",
   "metadata": {},
   "outputs": [
    {
     "name": "stdout",
     "output_type": "stream",
     "text": [
      "The test accuracy for my best Decision Tree model is: 54.51%\n"
     ]
    }
   ],
   "source": [
    "#fit the decision tree model with the chosen hyperparameter\n",
    "my_tree = DecisionTreeClassifier(max_depth=14)\n",
    "my_tree.fit(X_rem_transformed, y_remainder)\n",
    "test_acc_tree = my_tree.score(X_test_transformed, y_test)\n",
    "\n",
    "print(f'The test accuracy for my best Decision Tree model is: {round(test_acc_tree*100, 2)}%')"
   ]
  },
  {
   "cell_type": "markdown",
   "id": "a535a182",
   "metadata": {},
   "source": [
    "The performance of Decision Tree Model is worse than both KNN and Logistic Regression.\n",
    "\n",
    "I have now tried three different models to predict the article sentiment using the CountVectorizer. The best performing model is **Logistic Regression, which has a 64.75% testing accuracy**. I will now try different vectorization or embedding methods to see if they improve my model.  "
   ]
  },
  {
   "cell_type": "markdown",
   "id": "f8bd0b24",
   "metadata": {},
   "source": [
    "## TF-IDF Vectorization\n",
    "\n",
    "In the previous modeling, the most basic CountVectorizer was used to vectorize the articles. I will now try to use the `TF-IDF` Vectorization and see how the models perform. `TF-IDF` is essentially a weighted version of CountVectorizer. Instead of weighting each term equally, TF-IDF adjust the importance of a word based on it's appearance frequency. The `TF` part overweights a term if it appears more frequently in a given article. Intuitively, if a word appears more frequently in an article, it probably carries more weight on what the article is about. On the other hand, the `IDF` part underweights a word if it appears more frequently across different articles in the whole corpus. The idea is that, if a word appears in every articles, chances are that it is not that important when it comes to the different opinions/sentiment of the individual article. For example, the word `Covid` probably appears in many of the news articles about Covid19, but would not help gauge the different sentiment for individual articles.  \n",
    "\n",
    "For TF-IDF vectorization, I will first try to use pipeline and grid search to perform cross-validation and figure out the best model among Decision Trees and Logistic Regression. And then examine the performance of KNN in separately with a single train/validation split. The reason that I do not perform cross-validation on KNN is that KNN is extremely computational expensive when scoring a model. For a single train/validation split, I can save the calculated distance then score the model for different Ks. However, under cross-validation, the distance need to be recalculated for each different splits, and the required time would be exponentially increased. For the time and resource constraint I have, I will proceed with what I described here.\n",
    "\n",
    "Below I will start the cross-validation/grid search for the Logistic Regression and Decision Trees:"
   ]
  },
  {
   "cell_type": "code",
   "execution_count": 3,
   "id": "fd458dd8",
   "metadata": {},
   "outputs": [],
   "source": [
    "from sklearn.feature_extraction.text import TfidfVectorizer"
   ]
  },
  {
   "cell_type": "markdown",
   "id": "4a0666ea",
   "metadata": {},
   "source": [
    "Defining the pipeline for each train-validation split as before:"
   ]
  },
  {
   "cell_type": "code",
   "execution_count": 8,
   "id": "49b45988",
   "metadata": {},
   "outputs": [],
   "source": [
    "#Define my pipeline for each train/validation split:\n",
    "\n",
    "#Note that the model name(DecsionTree) here is just a place holder, as I will specify other models to be searched in the grid search.\n",
    "estimators = [('Vectorizer', TfidfVectorizer(stop_words='english', min_df=0.005)),\n",
    "              ('model', DecisionTreeClassifier())]\n",
    "    \n",
    "my_pipe = Pipeline(estimators)"
   ]
  },
  {
   "cell_type": "markdown",
   "id": "f8159cdf",
   "metadata": {},
   "source": [
    "This time, I will extend the parameters to search on different models:"
   ]
  },
  {
   "cell_type": "code",
   "execution_count": 9,
   "id": "caebe6a7",
   "metadata": {},
   "outputs": [],
   "source": [
    "params = [\n",
    "    {\n",
    "     'model': [DecisionTreeClassifier()],\n",
    "     'model__max_depth': [i*2 for i in range(1,11)]\n",
    "    },\n",
    "    {\n",
    "     'model': [LogisticRegression()], \n",
    "     'model__C': [10**i for i in range(-4,5)]\n",
    "    }]\n",
    "\n",
    "skf = StratifiedKFold(n_splits=5) #used in the grid to create stratified splits\n",
    "my_grid = GridSearchCV(my_pipe, param_grid=params, cv=skf, return_train_score=True, n_jobs=-1) #Instantiate the grid"
   ]
  },
  {
   "cell_type": "markdown",
   "id": "e9df8d36",
   "metadata": {},
   "source": [
    "**Note: The following cell runs for a pretty long time on my laptop**"
   ]
  },
  {
   "cell_type": "code",
   "execution_count": null,
   "id": "a1ab86e4",
   "metadata": {},
   "outputs": [],
   "source": [
    "fittedgrid_tree = my_grid.fit(X_remainder, y_remainder) #fit the grid"
   ]
  },
  {
   "cell_type": "code",
   "execution_count": 13,
   "id": "90732bf2",
   "metadata": {},
   "outputs": [
    {
     "name": "stdout",
     "output_type": "stream",
     "text": [
      "The best performing model among the searched is: LogisticRegression(C=1)\n"
     ]
    }
   ],
   "source": [
    "print(f\"The best performing model among the searched is: {fittedgrid_tree.best_params_['model']}\")"
   ]
  },
  {
   "cell_type": "markdown",
   "id": "e57c2550",
   "metadata": {},
   "source": [
    "Among all specification across Logistic Regression and Decision Tree, the best performing model is the Logistic Regression with C=1. "
   ]
  },
  {
   "cell_type": "code",
   "execution_count": 20,
   "id": "ebc66783",
   "metadata": {},
   "outputs": [
    {
     "name": "stdout",
     "output_type": "stream",
     "text": [
      "Average Training score for this specification is: 67.62%\n",
      "Average Validation score for this specification is: 65.86%\n",
      "The difference is 1.75%\n"
     ]
    }
   ],
   "source": [
    "trainscore_c1 = 100*fittedgrid_tree.cv_results_['mean_train_score'][-5]\n",
    "testscore_c1 = 100*fittedgrid_tree.cv_results_['mean_test_score'][-5]\n",
    "\n",
    "print(f\"Average Training score for this specification is: {trainscore_c1.round(2)}%\")\n",
    "print(f\"Average Validation score for this specification is: {testscore_c1.round(2)}%\")\n",
    "print(f\"The difference is {(trainscore_c1-testscore_c1).round(2)}%\")"
   ]
  },
  {
   "cell_type": "markdown",
   "id": "545290ce",
   "metadata": {},
   "source": [
    "The best model among the search is Logistic Regression with C=1, which has a 65.86% validation accuracy on average. The score of the training set suggests there is no serious overfitting issues. I will proceed and check the performance of this model on the testing set."
   ]
  },
  {
   "cell_type": "code",
   "execution_count": null,
   "id": "aada3f86",
   "metadata": {},
   "outputs": [],
   "source": [
    "#Transform the remainder set\n",
    "tfidf = TfidfVectorizer(stop_words='english', min_df=0.005)\n",
    "tfidf.fit(X_remainder)\n",
    "X_rem_transformed_tf = tfidf.transform(X_remainder)\n",
    "X_test_transformed_tf = tfidf.transform(X_test)"
   ]
  },
  {
   "cell_type": "code",
   "execution_count": 33,
   "id": "e7347b39",
   "metadata": {},
   "outputs": [
    {
     "name": "stdout",
     "output_type": "stream",
     "text": [
      "The accuracy for my baseline Logistic Regression is: 65.96%\n"
     ]
    }
   ],
   "source": [
    "lm = LogisticRegression(C=1)\n",
    "lm.fit(X_rem_transformed_tf, y_remainder)\n",
    "score = lm.score(X_test_transformed_tf, y_test)\n",
    "\n",
    "print(f'The accuracy for my baseline Logistic Regression is: {round(score*100, 2)}%')"
   ]
  },
  {
   "cell_type": "markdown",
   "id": "0e8981fa",
   "metadata": {},
   "source": [
    "Similarly, I can visualize the best predicting words of the sentiment:"
   ]
  },
  {
   "cell_type": "code",
   "execution_count": 35,
   "id": "a9499e9a",
   "metadata": {},
   "outputs": [
    {
     "data": {
      "image/png": "[encoded data removed]",
      "text/plain": [
       "<Figure size 576x432 with 1 Axes>"
      ]
     },
     "metadata": {
      "needs_background": "light"
     },
     "output_type": "display_data"
    }
   ],
   "source": [
    "vis_logit_coef(lm.coef_, tfidf, 'positive')"
   ]
  },
  {
   "cell_type": "code",
   "execution_count": 21,
   "id": "76d8fee1",
   "metadata": {
    "scrolled": false
   },
   "outputs": [
    {
     "data": {
      "image/png": "[encoded data removed]",
      "text/plain": [
       "<Figure size 576x432 with 1 Axes>"
      ]
     },
     "metadata": {
      "needs_background": "light"
     },
     "output_type": "display_data"
    }
   ],
   "source": [
    "vis_logit_coef(lm.coef_, tfidf, 'negative')"
   ]
  },
  {
   "cell_type": "markdown",
   "id": "e0232225",
   "metadata": {},
   "source": [
    "The factors represent how much impact a word has on the sentiment prediction. With TF-IDF vectorization, it is not very clear what it means if the word feature increases by unit, but we can consider these words as the ones having more impact on the article sentiment in general. The list of words is pretty similar to what we had for the Bag-of-Words model.  "
   ]
  },
  {
   "cell_type": "markdown",
   "id": "1d64f760",
   "metadata": {},
   "source": [
    "Now, I will also check the KNN model performance for TF-IDF vectorization. Similar to what is done in the bag of word model, I will calculate all the distances between all observations, then score the model with different Ks and optimize the choice.\n",
    "\n",
    "Also similar to what I have done above, LSA is applied to reduce the dimension. I will keep 1,874 components as before and examine the explained variance. "
   ]
  },
  {
   "cell_type": "code",
   "execution_count": 7,
   "id": "5c20d023",
   "metadata": {},
   "outputs": [],
   "source": [
    "#Single train/validation split\n",
    "X_train, X_val, y_train, y_val = train_test_split(X_remainder, y_remainder, test_size=0.20, stratify= y_remainder) \n",
    "\n",
    "#Vectorize the body text with TF-IDF\n",
    "tfidf = TfidfVectorizer(stop_words='english', min_df=0.005)\n",
    "tfidf.fit(X_train)\n",
    "X_train_transformed_tf = tfidf.transform(X_train)\n",
    "X_val_transformed_tf = tfidf.transform(X_val)"
   ]
  },
  {
   "cell_type": "code",
   "execution_count": 10,
   "id": "066548a1",
   "metadata": {},
   "outputs": [],
   "source": [
    "#Reduce the dimension with LSA\n",
    "LSA = TruncatedSVD(n_components=1874)\n",
    "LSA.fit(X_train_transformed_tf)\n",
    "X_train_LSA_tf = LSA.transform(X_train_transformed_tf)\n",
    "X_val_LSA_tf = LSA.transform(X_val_transformed_tf)"
   ]
  },
  {
   "cell_type": "markdown",
   "id": "24d9ee0d",
   "metadata": {},
   "source": [
    "The cell below shows the cumulated explained variance ratio for 1,874 components."
   ]
  },
  {
   "cell_type": "code",
   "execution_count": 11,
   "id": "63c6ab4a",
   "metadata": {},
   "outputs": [
    {
     "name": "stdout",
     "output_type": "stream",
     "text": [
      "72.48% of the variance is explained with 1,874 components\n"
     ]
    }
   ],
   "source": [
    "cumulative_sum = np.cumsum(LSA.explained_variance_ratio_)\n",
    "print(f'{(cumulative_sum[-1]*100).round(2)}% of the variance is explained with 1,874 components')"
   ]
  },
  {
   "cell_type": "markdown",
   "id": "171713d8",
   "metadata": {},
   "source": [
    "I will proceed with this and check the KNN performance. The distances are first calculated below: "
   ]
  },
  {
   "cell_type": "code",
   "execution_count": 12,
   "id": "0404fe70",
   "metadata": {},
   "outputs": [],
   "source": [
    "K_transform = KNeighborsTransformer(n_neighbors=40, metric='cosine')\n",
    "K_transform.fit(X_train_LSA_tf)\n",
    "X_Distance_train = K_transform.transform(X_train_LSA_tf)\n",
    "X_Distance_val = K_transform.transform(X_val_LSA_tf)"
   ]
  },
  {
   "cell_type": "markdown",
   "id": "7c9e66a2",
   "metadata": {},
   "source": [
    "With the distances calculated, models with different Ks can be quickly scored:"
   ]
  },
  {
   "cell_type": "code",
   "execution_count": 13,
   "id": "a76f3f9b",
   "metadata": {},
   "outputs": [],
   "source": [
    "train_accur = list()\n",
    "validation_accur = list()\n",
    "Ks = range(1,41)\n",
    "\n",
    "for k in Ks:  \n",
    "    my_KNN = KNeighborsClassifier(n_neighbors=k, metric='precomputed')\n",
    "    my_KNN.fit(X_Distance_train, y_train)\n",
    "    training_acc = my_KNN.score(X_Distance_train, y_train)\n",
    "    validation_acc = my_KNN.score(X_Distance_val, y_val)\n",
    "    \n",
    "    train_accur.append(training_acc)\n",
    "    validation_accur.append(validation_acc)"
   ]
  },
  {
   "cell_type": "markdown",
   "id": "e5b49cbe",
   "metadata": {},
   "source": [
    "Models with K from 1 to 40 are fitted. The performances are visualized below:"
   ]
  },
  {
   "cell_type": "code",
   "execution_count": 14,
   "id": "46b9e824",
   "metadata": {
    "scrolled": false
   },
   "outputs": [
    {
     "data": {
      "image/png": "[encoded data removed]",
      "text/plain": [
       "<Figure size 576x432 with 1 Axes>"
      ]
     },
     "metadata": {
      "needs_background": "light"
     },
     "output_type": "display_data"
    }
   ],
   "source": [
    "plt.figure(figsize=(8,6))\n",
    "\n",
    "plt.plot(Ks, train_accur, label='training accuracy')\n",
    "plt.plot(Ks, validation_accur, label='validation accuracy')\n",
    "plt.xticks(Ks)\n",
    "plt.xlabel('Number of Neighbors(K)', fontsize=14)\n",
    "plt.ylabel('Accuracy', fontsize=14)\n",
    "plt.xticks([i for i in 2*np.arange(1,21)])\n",
    "plt.title('KNN Model Performance for Different Ks')\n",
    "plt.legend()\n",
    "\n",
    "plt.show()"
   ]
  },
  {
   "cell_type": "markdown",
   "id": "315ddd38",
   "metadata": {},
   "source": [
    "The performance of the validation set barely improves after K=10. I will choose K=18 as my model.\n",
    "\n",
    "The model is fit to the whole remainder dataset below and the testing score is checked:"
   ]
  },
  {
   "cell_type": "code",
   "execution_count": 8,
   "id": "bc2f4ee7",
   "metadata": {},
   "outputs": [],
   "source": [
    "#Reduce the dimension with LSA\n",
    "LSA = TruncatedSVD(n_components=1874)\n",
    "LSA.fit(X_rem_transformed_tf)\n",
    "X_rem_LSA_tf = LSA.transform(X_rem_transformed_tf)\n",
    "X_test_LSA_tf = LSA.transform(X_test_transformed_tf)\n",
    "\n",
    "#Fit the KNN model and score the model\n",
    "my_KNN = KNeighborsClassifier(n_neighbors=18, metric='cosine')\n",
    "my_KNN.fit(X_rem_LSA_tf, y_remainder)\n",
    "test_acc = my_KNN.score(X_test_LSA_tf, y_test)"
   ]
  },
  {
   "cell_type": "code",
   "execution_count": 9,
   "id": "dce669c1",
   "metadata": {},
   "outputs": [
    {
     "name": "stdout",
     "output_type": "stream",
     "text": [
      "The accuracy score for my KNN model is 55.62%\n"
     ]
    }
   ],
   "source": [
    "print(f'The accuracy score for my KNN model is {round(test_acc*100, 2)}%')"
   ]
  },
  {
   "cell_type": "markdown",
   "id": "623640d4",
   "metadata": {},
   "source": [
    "Since KNN is computationally way more expensive than the other models, and does not seem to perform so far, for the remainder of this notebook, I will focus on the other models.\n",
    "\n",
    "To provide a brief summary, **the best performing model under TF-IDF transformation is again the Logistic Regression. The testing accuracy is 65.96%**, which is slightly better than that of the Bag-of-Words model. \n",
    "\n",
    "Next, I will use the Word2Vec embedding trained by my own neural network to vectorize my body texts. "
   ]
  },
  {
   "cell_type": "markdown",
   "id": "59c5e601",
   "metadata": {},
   "source": [
    "## My Own Word2Vec Embedding\n",
    "\n",
    "In this section, I will apply a Word2Vec embedding trained by my own neural network to the text.\n",
    "\n",
    "The idea of word embedding is to represent each word with a vector, with each dimension of the vector representing certain aspect of the word. Word2Vec is a particular word embedding method trained under a particular neural network architecture. I have followed the architecture and trained my own embedding(with each word represented by an 100-dimension vector) using neural network. The detail of the training process is documented in the previous notebook of this project.\n",
    "\n",
    "To take a look of the embedding, I will load the embedding model by calling the saved dictionary:"
   ]
  },
  {
   "cell_type": "code",
   "execution_count": 5,
   "id": "561bd16b",
   "metadata": {},
   "outputs": [],
   "source": [
    "my_own_w2v = joblib.load('data/my_own_w2v.pkl') #Calling the saved embedding "
   ]
  },
  {
   "cell_type": "markdown",
   "id": "81964ca8",
   "metadata": {},
   "source": [
    "I can pass in any word as the key(provided that the word is presented in my training document), and the model will return the vector representing that word.\n",
    "\n",
    "For example, the vector representing the word \"australia\" looks something like this:"
   ]
  },
  {
   "cell_type": "code",
   "execution_count": 8,
   "id": "8de0a18a",
   "metadata": {
    "scrolled": true
   },
   "outputs": [
    {
     "data": {
      "text/plain": [
       "array([ 0.54024744, -0.04149971, -0.20220499, -0.28711826,  0.03638756,\n",
       "        0.788589  ,  0.02969736, -0.11178477, -0.5725266 , -0.17819262,\n",
       "        0.23404142, -0.02535134,  0.1814522 ,  0.11111259, -0.1075007 ,\n",
       "       -0.484567  ,  0.2444715 ,  0.17013709,  0.3940942 , -0.51014316,\n",
       "       -0.03377568, -0.38296995,  0.18155386, -0.8299086 , -1.0911549 ,\n",
       "       -0.6864811 , -0.17364815, -0.0929661 ,  0.5284349 , -0.41676232,\n",
       "        0.33802626,  0.00283943,  0.53435796, -0.29828548,  0.19432774,\n",
       "       -0.44966623,  0.14516331,  0.74801016, -0.02360087, -0.3782345 ,\n",
       "        0.87468517,  0.59711903, -0.43472236,  0.32793707,  0.7746121 ,\n",
       "       -0.18719037,  0.37805504, -0.8575068 , -0.8623102 ,  0.510714  ,\n",
       "        0.00812747,  0.25704175,  0.38123965, -0.5025245 ,  0.19357468,\n",
       "        0.1479367 , -0.10365386, -0.37709504,  0.43712136,  0.30075842,\n",
       "        0.4412203 ,  0.10187035, -0.48409182,  0.53303784, -0.5633318 ,\n",
       "       -0.43589616, -0.611897  , -0.8313048 , -0.7152454 , -0.16852589,\n",
       "       -0.9324141 ,  0.64597523, -0.2503734 ,  0.5580689 , -0.2032082 ,\n",
       "       -0.5265699 , -0.5943608 , -0.32728323, -0.65157455, -0.26943725,\n",
       "        0.36507127, -0.88924557,  0.46546832, -0.70549154,  0.00271191,\n",
       "       -0.48223364,  1.040936  , -0.50024825, -1.2485074 ,  0.0270672 ,\n",
       "       -0.08255867,  1.0414692 , -0.49036887, -0.5059223 , -0.55593044,\n",
       "        0.28092736,  0.6998972 ,  0.0617971 ,  0.12906294, -0.3642754 ],\n",
       "      dtype=float32)"
      ]
     },
     "execution_count": 8,
     "metadata": {},
     "output_type": "execute_result"
    }
   ],
   "source": [
    "my_own_w2v['australia'] "
   ]
  },
  {
   "cell_type": "markdown",
   "id": "15528826",
   "metadata": {},
   "source": [
    "To see how many words are in my embedding model:  "
   ]
  },
  {
   "cell_type": "code",
   "execution_count": 14,
   "id": "916abb10",
   "metadata": {},
   "outputs": [
    {
     "name": "stdout",
     "output_type": "stream",
     "text": [
      "The model contains 50711 words, each represented by a 100-dimension vector\n"
     ]
    }
   ],
   "source": [
    "print(f\"The model contains {len(my_own_w2v)} words, each represented by a {my_own_w2v['australia'].shape[0]}-dimension vector\")"
   ]
  },
  {
   "cell_type": "markdown",
   "id": "bbdd1652",
   "metadata": {},
   "source": [
    "Now, to apply the word embedding to the whole article, I simply calculated the average of the vectors for all words presented in a single article. If a word in the article is not in my embedding model, the vector of the word would be zero.\n",
    "\n",
    "The following function takes an article as the input and returns the embedded vector of that article.  \n",
    "**Note: This function is modified using one of the functions provided in BrainStation notebooks.**"
   ]
  },
  {
   "cell_type": "code",
   "execution_count": 4,
   "id": "a33cebf9",
   "metadata": {},
   "outputs": [],
   "source": [
    "import gensim\n",
    "from gensim.utils import simple_preprocess\n",
    "\n",
    "def sentence2vec(text, model, dim):\n",
    "    \"\"\"\n",
    "    Embed a sentence by averaging the word vectors of the tokenized text. Out-of-vocabulary words are replaced by the zero-vector.\n",
    "    \n",
    "    \"model\" specifies the trained word2vec model, which needs to be a dictionary-like object with the word string being the key and\n",
    "    the word vector being the corresponding value\n",
    "    \n",
    "    \"dim\" specifies number of dimesions of the word vector\n",
    "    -----\n",
    "    \n",
    "    Input: text (string), w2v model name, the number of dimesions of the word vector\n",
    "    Output: embedding vector (np.array)\n",
    "    \"\"\"\n",
    "    tokenized = simple_preprocess(text)\n",
    "    \n",
    "    \n",
    "    \n",
    "    word_embeddings = [np.zeros(dim)]\n",
    "    for word in tokenized:\n",
    "        # if the word is in the model then embed\n",
    "        if word in model:\n",
    "            vector = model[word]\n",
    "        # add zeros for out-of-vocab words\n",
    "        else:\n",
    "            vector = np.zeros(dim)\n",
    "            \n",
    "        word_embeddings.append(vector)\n",
    "    \n",
    "    # average the word vectors\n",
    "    sentence_embedding = np.stack(word_embeddings).mean(axis=0)\n",
    "    \n",
    "    return sentence_embedding"
   ]
  },
  {
   "cell_type": "markdown",
   "id": "8a6c897f",
   "metadata": {},
   "source": [
    "I will now apply the embedding on the texts to see how the models perform.\n",
    "\n",
    "Note that the embedding is trained independent to the training or validation data, so I can just fit it to the whole remainder dataset before the train/validation split without information leakage issues (i.e. the transformation is based on predetermined words in my word2vec model instead of the information in the training data).\n",
    "\n",
    "The following cell transforms my text data:"
   ]
  },
  {
   "cell_type": "code",
   "execution_count": 7,
   "id": "be9f9a97",
   "metadata": {},
   "outputs": [],
   "source": [
    "#applying the sentence2vec function to each row(article)\n",
    "X_rem_emb = np.array(X_remainder.apply(lambda x: sentence2vec(x, my_own_w2v, 100)).to_list())\n",
    "X_test_emb = np.array(X_test.apply(lambda x: sentence2vec(x, my_own_w2v, 100)).to_list())"
   ]
  },
  {
   "cell_type": "markdown",
   "id": "e3200354",
   "metadata": {},
   "source": [
    "Again, I will use grid search to search for the best performing model under this embedding transformation."
   ]
  },
  {
   "cell_type": "code",
   "execution_count": 26,
   "id": "3d852b28",
   "metadata": {},
   "outputs": [],
   "source": [
    "#instantiate the pipeline\n",
    "estimators = [('model', DecisionTreeClassifier())]\n",
    "my_pipe = Pipeline(estimators)\n",
    "\n",
    "#specifies the models/hyperparameters to be searched \n",
    "params = [\n",
    "    {\n",
    "     'model': [DecisionTreeClassifier()],\n",
    "     'model__max_depth': [i*2 for i in range(1,11)]\n",
    "    },\n",
    "    {\n",
    "     'model': [LogisticRegression()], \n",
    "     'model__C': [10**i for i in range(-4,5)]\n",
    "    }]\n",
    "\n",
    "skf = StratifiedKFold(n_splits=5) #used in the grid to create stratified splits\n",
    "my_grid = GridSearchCV(my_pipe, param_grid=params, cv=skf, return_train_score=True)"
   ]
  },
  {
   "cell_type": "markdown",
   "id": "5d340bf9",
   "metadata": {},
   "source": [
    "**Note: The following cell runs for a few hours on my laptop**"
   ]
  },
  {
   "cell_type": "code",
   "execution_count": 27,
   "id": "3b1b3c5b",
   "metadata": {},
   "outputs": [],
   "source": [
    "gridsearch_w2v = my_grid.fit(X_rem_emb, y_remainder) #fit the grid"
   ]
  },
  {
   "cell_type": "markdown",
   "id": "0f7e8e6b",
   "metadata": {},
   "source": [
    "Since the search took a long time, I have saved the result."
   ]
  },
  {
   "cell_type": "code",
   "execution_count": 28,
   "id": "ff9e8926",
   "metadata": {},
   "outputs": [
    {
     "data": {
      "text/plain": [
       "['data/gridsearch_myown_w2v.pkl']"
      ]
     },
     "execution_count": 28,
     "metadata": {},
     "output_type": "execute_result"
    }
   ],
   "source": [
    "joblib.dump(gridsearch_w2v, 'data/gridsearch_myown_w2v.pkl') #saving the grid search result"
   ]
  },
  {
   "cell_type": "markdown",
   "id": "14e7afcf",
   "metadata": {},
   "source": [
    "One could simply load the saved result by running the following cell:"
   ]
  },
  {
   "cell_type": "code",
   "execution_count": 13,
   "id": "cf24e25b",
   "metadata": {},
   "outputs": [],
   "source": [
    "gridsearch_w2v = joblib.load('data/gridsearch_myown_w2v.pkl')"
   ]
  },
  {
   "cell_type": "markdown",
   "id": "dc09ff09",
   "metadata": {},
   "source": [
    "The grid search returns the following best-performing model:"
   ]
  },
  {
   "cell_type": "code",
   "execution_count": 29,
   "id": "cdbb9f53",
   "metadata": {
    "scrolled": true
   },
   "outputs": [
    {
     "data": {
      "text/plain": [
       "LogisticRegression(C=10000)"
      ]
     },
     "execution_count": 29,
     "metadata": {},
     "output_type": "execute_result"
    }
   ],
   "source": [
    "gridsearch_w2v.best_params_['model']"
   ]
  },
  {
   "cell_type": "markdown",
   "id": "ad07df73",
   "metadata": {},
   "source": [
    "The best performing model is the Logistic Regression with C=10,000, which indicates pretty weak regularization.  \n",
    "The train/validation performances are as follows:"
   ]
  },
  {
   "cell_type": "code",
   "execution_count": 30,
   "id": "d2a0fcb1",
   "metadata": {},
   "outputs": [
    {
     "name": "stdout",
     "output_type": "stream",
     "text": [
      "Average Training score for this specification is: 56.44%\n",
      "Average Validation score for this specification is: 56.43%\n",
      "The difference is 0.01%\n"
     ]
    }
   ],
   "source": [
    "trainscore_c10000 = 100*gridsearch_w2v.cv_results_['mean_train_score'][-1]\n",
    "testscore_c10000 = 100*gridsearch_w2v.cv_results_['mean_test_score'][-1]\n",
    "\n",
    "print(f\"Average Training score for this specification is: {trainscore_c10000.round(2)}%\")\n",
    "print(f\"Average Validation score for this specification is: {testscore_c10000.round(2)}%\")\n",
    "print(f\"The difference is {(trainscore_c10000-testscore_c10000).round(2)}%\")"
   ]
  },
  {
   "cell_type": "markdown",
   "id": "7f752143",
   "metadata": {},
   "source": [
    "The model performs almost identically in both training and validation datasets, suggesting no over-fitting issues.\n",
    "\n",
    "Now I can test the model performance using the full remainder and testing sets: "
   ]
  },
  {
   "cell_type": "code",
   "execution_count": 8,
   "id": "6fc786c9",
   "metadata": {},
   "outputs": [
    {
     "name": "stdout",
     "output_type": "stream",
     "text": [
      "The accuracy for the best model with Word2Vec embedding is: 56.56%\n"
     ]
    }
   ],
   "source": [
    "lm = LogisticRegression(C=10000)\n",
    "lm.fit(X_rem_emb, y_remainder)\n",
    "score = lm.score(X_test_emb, y_test)\n",
    "\n",
    "print(f'The accuracy for the best model with Word2Vec embedding is: {round(score*100, 2)}%')"
   ]
  },
  {
   "cell_type": "markdown",
   "id": "0d6788a9",
   "metadata": {},
   "source": [
    "The Word2Vec embedding does not perform as well as the TF-IDF and the Bag-of-Words models. I will move on an explore the performance of a more advanced pre-trained embedding."
   ]
  },
  {
   "cell_type": "markdown",
   "id": "23556742",
   "metadata": {},
   "source": [
    "## The Pre-Trained LexVec Embedding\n",
    "\n",
    "Now that we have tried my own version of Word2Vec embedding, let's look at how such an embedding can perform if trained on all text on Wikipedia and with a more fine-tuned training architecture! For this task, I will import a well-trained LexVec embedding and interact with it using the `gensim` library.\n",
    "\n",
    "As mentioned earlier, this is a pre-trained embedding. [This](https://github.com/alexandres/lexvec) is the original source, and the file can be downloaded [here](https://drive.google.com/file/d/1TsL8TsJMearbW7telCmp7l6HqSnunAhn/view?usp=sharing)"
   ]
  },
  {
   "cell_type": "markdown",
   "id": "d17967a2",
   "metadata": {},
   "source": [
    "I will import the LexVec model:"
   ]
  },
  {
   "cell_type": "code",
   "execution_count": 9,
   "id": "a637ab3f",
   "metadata": {},
   "outputs": [],
   "source": [
    "#Loading the embedding model with gensim\n",
    "w2v = gensim.models.KeyedVectors.load_word2vec_format(\n",
    "    'data/lexvec.enwiki+newscrawl.300d.W.pos.vectors', binary=False)"
   ]
  },
  {
   "cell_type": "markdown",
   "id": "024c8662",
   "metadata": {},
   "source": [
    "To take a closer look:"
   ]
  },
  {
   "cell_type": "code",
   "execution_count": 6,
   "id": "1318fc36",
   "metadata": {
    "scrolled": true
   },
   "outputs": [
    {
     "name": "stdout",
     "output_type": "stream",
     "text": [
      "The model contains 368999 words, each represented by a 300-dimension vector\n"
     ]
    }
   ],
   "source": [
    "print(f'The model contains {w2v.vectors.shape[0]} words, each represented by a {w2v.vectors.shape[1]}-dimension vector')"
   ]
  },
  {
   "cell_type": "markdown",
   "id": "bfc81911",
   "metadata": {},
   "source": [
    "I will now apply the embedding function to the texts and examine the performances of different models. \n",
    "\n",
    "Again. the embedding is independent to the training or validation data, so I can fit it to the whole remainder dataset before the train/validation split without worrying about information leakage."
   ]
  },
  {
   "cell_type": "code",
   "execution_count": 10,
   "id": "15f94d08",
   "metadata": {},
   "outputs": [],
   "source": [
    "#applying the embedding to my text data\n",
    "X_rem_emb = np.array(X_remainder.apply(lambda x: sentence2vec(x, w2v, 300)).to_list())\n",
    "X_test_emb = np.array(X_test.apply(lambda x: sentence2vec(x, w2v, 300)).to_list())"
   ]
  },
  {
   "cell_type": "markdown",
   "id": "36494770",
   "metadata": {},
   "source": [
    "Grid search the best model:"
   ]
  },
  {
   "cell_type": "code",
   "execution_count": 11,
   "id": "ca700c35",
   "metadata": {},
   "outputs": [],
   "source": [
    "estimators = [('model', DecisionTreeClassifier())]\n",
    "my_pipe = Pipeline(estimators)\n",
    "\n",
    "params = [\n",
    "    {\n",
    "     'model': [DecisionTreeClassifier()],\n",
    "     'model__max_depth': [i*2 for i in range(1,11)]\n",
    "    },\n",
    "    {\n",
    "     'model': [LogisticRegression()], \n",
    "     'model__C': [10**i for i in range(-4,5)]\n",
    "    }]\n",
    "\n",
    "skf = StratifiedKFold(n_splits=5) #used in the grid to create stratified splits\n",
    "my_grid = GridSearchCV(my_pipe, param_grid=params, cv=skf, return_train_score=True) #Instantiate the grid"
   ]
  },
  {
   "cell_type": "markdown",
   "id": "24a402ff",
   "metadata": {},
   "source": [
    "**Note: The following cell runs for a few hours on my laptop**"
   ]
  },
  {
   "cell_type": "code",
   "execution_count": 13,
   "id": "7736750d",
   "metadata": {},
   "outputs": [],
   "source": [
    "gridsearch_w2v = my_grid.fit(X_rem_emb, y_remainder) #fit the grid"
   ]
  },
  {
   "cell_type": "markdown",
   "id": "4d0087e0",
   "metadata": {},
   "source": [
    "Since the search took a long time, I have saved the result."
   ]
  },
  {
   "cell_type": "code",
   "execution_count": 16,
   "id": "8cbd7a63",
   "metadata": {},
   "outputs": [
    {
     "data": {
      "text/plain": [
       "['data/gridsearch_w2v.pkl']"
      ]
     },
     "execution_count": 16,
     "metadata": {},
     "output_type": "execute_result"
    }
   ],
   "source": [
    "joblib.dump(gridsearch_w2v, 'data/gridsearch_w2v.pkl')"
   ]
  },
  {
   "cell_type": "markdown",
   "id": "d7c1ea84",
   "metadata": {},
   "source": [
    "One could simply load the saved result by running the following cell:"
   ]
  },
  {
   "cell_type": "code",
   "execution_count": 12,
   "id": "cea49829",
   "metadata": {},
   "outputs": [],
   "source": [
    "gridsearch_w2v = joblib.load('data/gridsearch_w2v.pkl')"
   ]
  },
  {
   "cell_type": "markdown",
   "id": "8d883400",
   "metadata": {},
   "source": [
    "The grid search returns the following best-performing model:"
   ]
  },
  {
   "cell_type": "code",
   "execution_count": 18,
   "id": "6db03601",
   "metadata": {},
   "outputs": [
    {
     "data": {
      "text/plain": [
       "LogisticRegression(C=10)"
      ]
     },
     "execution_count": 18,
     "metadata": {},
     "output_type": "execute_result"
    }
   ],
   "source": [
    "gridsearch_w2v.best_params_['model']"
   ]
  },
  {
   "cell_type": "markdown",
   "id": "433ab1fc",
   "metadata": {},
   "source": [
    "The best performing model under the LexVec embedding method is the Logistic Regression with C=10  \n",
    "The train/validation performances are as follows:"
   ]
  },
  {
   "cell_type": "code",
   "execution_count": 25,
   "id": "0087e452",
   "metadata": {},
   "outputs": [
    {
     "name": "stdout",
     "output_type": "stream",
     "text": [
      "Average Training score for this specification is: 59.26%\n",
      "Average Validation score for this specification is: 59.13%\n",
      "The difference is 0.13%\n"
     ]
    }
   ],
   "source": [
    "trainscore_c10 = 100*gridsearch_w2v.cv_results_['mean_train_score'][-4]\n",
    "testscore_c10 = 100*gridsearch_w2v.cv_results_['mean_test_score'][-4]\n",
    "\n",
    "print(f\"Average Training score for this specification is: {trainscore_c10.round(2)}%\")\n",
    "print(f\"Average Validation score for this specification is: {testscore_c10.round(2)}%\")\n",
    "print(f\"The difference is {(trainscore_c10-testscore_c10).round(2)}%\")"
   ]
  },
  {
   "cell_type": "markdown",
   "id": "25514eb0",
   "metadata": {},
   "source": [
    "The model performs almost identically in both training and validation datasets, suggesting no over-fitting issues.\n",
    "\n",
    "Now I can test the model performance using the full remainder and testing sets:"
   ]
  },
  {
   "cell_type": "code",
   "execution_count": 11,
   "id": "2c6cc63f",
   "metadata": {},
   "outputs": [
    {
     "name": "stdout",
     "output_type": "stream",
     "text": [
      "The accuracy for the best model with LexVec embedding is: 59.13%\n"
     ]
    }
   ],
   "source": [
    "lm = LogisticRegression(C=10)\n",
    "lm.fit(X_rem_emb, y_remainder)\n",
    "score = lm.score(X_test_emb, y_test)\n",
    "\n",
    "print(f'The accuracy for the best model with LexVec embedding is: {round(score*100, 2)}%')"
   ]
  },
  {
   "cell_type": "markdown",
   "id": "b75bac2f",
   "metadata": {},
   "source": [
    "Surprisingly, although the LexVec embedding is better than my self-trained Word2Vec, it's still outperformed by the TF-IDF transformation. However, I will recognize that this embedding has way fewer dimension than the TF-IDF or Bag-of-Words (300 dimensions vs. thousands of dimensions) but does not lose too much of the predictive power(only about 5% difference in accuracy)."
   ]
  },
  {
   "cell_type": "markdown",
   "id": "5927b759",
   "metadata": {},
   "source": [
    "#### Concluding Remark for exploring the Text features\n",
    "\n",
    "To summarize the above, I have tried 4 different transformation methods: Bag-of-Words, TF-IDF, Word2Vec, and LexVec. Among the four alternatives, TF-IDF leads to the best model performance. The best model has 65.96% testing accuracy. \n",
    "\n",
    "I will now proceed with the TF-IDF transformation and add a few other features to see how my final model performs."
   ]
  },
  {
   "cell_type": "markdown",
   "id": "61de0923",
   "metadata": {},
   "source": [
    "## Modeling including other Features\n",
    "\n",
    "Finally, with the text column explored, I will include some other features into my model. "
   ]
  },
  {
   "cell_type": "code",
   "execution_count": 29,
   "id": "48ae7eab",
   "metadata": {},
   "outputs": [],
   "source": [
    "X = covid_df.loc[:,['Source', 'Author', 'Main_Location', 'Body']]\n",
    "y = covid_df['Sentiment_Body'].map({'negative': 0,\n",
    "                                    'neutral': 1,\n",
    "                                    'positive': 2})\n",
    "\n",
    "X_remainder, X_test, y_remainder, y_test = train_test_split(X, y, test_size=0.33, stratify=y)"
   ]
  },
  {
   "cell_type": "markdown",
   "id": "c32c725c",
   "metadata": {},
   "source": [
    "Since the categorical columns need to be One-Hot-Encoded, while the TF-IDF transformation needs to be applied to the text column, I will need to define a customized column transformer in order to facilitate my pipeline and grid search, which is done below:"
   ]
  },
  {
   "cell_type": "code",
   "execution_count": 30,
   "id": "6fa116ff",
   "metadata": {},
   "outputs": [],
   "source": [
    "#The transformer that will one-hot-encode the categorical columns and apply TF-IDF to the text column\n",
    "encode = [('ohe1', OneHotEncoder(handle_unknown='ignore'), ['Source', 'Author', 'Main_Location']), #ignore unseen categories in the testing set\n",
    "          ('tfidf', TfidfVectorizer(stop_words='english', min_df=0.005), 'Body')]       \n",
    "\n",
    "vectorizer = ColumnTransformer(encode) #Instantiate the column transformer"
   ]
  },
  {
   "cell_type": "markdown",
   "id": "ecb0f65a",
   "metadata": {},
   "source": [
    "Below I will start a grid search to find the best model to utilize these different features. The searched models include Decision Tree and Logistic Regression as before. \n",
    "\n",
    "I will start my search below:"
   ]
  },
  {
   "cell_type": "code",
   "execution_count": 31,
   "id": "4c0b7bb7",
   "metadata": {},
   "outputs": [],
   "source": [
    "#Define my pipeline for each train/validation split:\n",
    "\n",
    "#Note that the model name(DecsionTree) here is just a place holder, as I will specify other models to be searched in the grid search.\n",
    "estimators = [('Vectorizer', vectorizer),\n",
    "              ('model', DecisionTreeClassifier())]\n",
    "my_pipe = Pipeline(estimators)\n",
    "\n",
    "\n",
    "#Instantiate the grid search\n",
    "params = [\n",
    "    {\n",
    "     'model': [DecisionTreeClassifier()],\n",
    "     'model__max_depth': [i*2 for i in range(1,11)]\n",
    "    },\n",
    "    {\n",
    "     'model': [LogisticRegression()], \n",
    "     'model__C': [10**i for i in range(-4,5)]\n",
    "    }]\n",
    "skf = StratifiedKFold(n_splits=5) #used in the grid to create stratified splits\n",
    "my_grid = GridSearchCV(my_pipe, param_grid=params, cv=skf, return_train_score=True, n_jobs=4)"
   ]
  },
  {
   "cell_type": "markdown",
   "id": "e628aef7",
   "metadata": {},
   "source": [
    "**Note: The following cell runs for a few hours on my laptop**"
   ]
  },
  {
   "cell_type": "code",
   "execution_count": 33,
   "id": "750aa5d3",
   "metadata": {},
   "outputs": [],
   "source": [
    "gridsearch_more_feature = my_grid.fit(X_remainder, y_remainder) #fit the grid"
   ]
  },
  {
   "cell_type": "markdown",
   "id": "1b4bacbf",
   "metadata": {},
   "source": [
    "Since the search took a long time, I have saved the result."
   ]
  },
  {
   "cell_type": "code",
   "execution_count": 34,
   "id": "d5dbc7a5",
   "metadata": {},
   "outputs": [
    {
     "data": {
      "text/plain": [
       "['data/gridsearch_final.pkl']"
      ]
     },
     "execution_count": 34,
     "metadata": {},
     "output_type": "execute_result"
    }
   ],
   "source": [
    "joblib.dump(gridsearch_more_feature, 'data/gridsearch_final.pkl') #saving the grid search result"
   ]
  },
  {
   "cell_type": "markdown",
   "id": "4ddf09c0",
   "metadata": {},
   "source": [
    "One could simply load the saved result by running the following cell:"
   ]
  },
  {
   "cell_type": "code",
   "execution_count": 14,
   "id": "cba5f215",
   "metadata": {},
   "outputs": [],
   "source": [
    "gridsearch_more_feature = joblib.load('data/gridsearch_final.pkl')"
   ]
  },
  {
   "cell_type": "markdown",
   "id": "d851d5c7",
   "metadata": {},
   "source": [
    "The grid search returns the following best-performing model:"
   ]
  },
  {
   "cell_type": "code",
   "execution_count": 35,
   "id": "165aacb2",
   "metadata": {
    "scrolled": true
   },
   "outputs": [
    {
     "data": {
      "text/plain": [
       "LogisticRegression(C=1)"
      ]
     },
     "execution_count": 35,
     "metadata": {},
     "output_type": "execute_result"
    }
   ],
   "source": [
    "gridsearch_more_feature.best_params_['model']"
   ]
  },
  {
   "cell_type": "markdown",
   "id": "ce638aaf",
   "metadata": {},
   "source": [
    "The best performing model with other features is the Logistic Regression with C=1  \n",
    "The train/validation performances are as follows:"
   ]
  },
  {
   "cell_type": "code",
   "execution_count": 37,
   "id": "4ae65f99",
   "metadata": {},
   "outputs": [
    {
     "name": "stdout",
     "output_type": "stream",
     "text": [
      "Average Training score for this specification is: 69.47%\n",
      "Average Validation score for this specification is: 65.4%\n",
      "The difference is 4.07%\n"
     ]
    }
   ],
   "source": [
    "trainscore_c1 = 100*gridsearch_more_feature.cv_results_['mean_train_score'][-5]\n",
    "testscore_c1 = 100*gridsearch_more_feature.cv_results_['mean_test_score'][-5]\n",
    "\n",
    "print(f\"Average Training score for this specification is: {trainscore_c1.round(2)}%\")\n",
    "print(f\"Average Validation score for this specification is: {testscore_c1.round(2)}%\")\n",
    "print(f\"The difference is {(trainscore_c1-testscore_c1).round(2)}%\")"
   ]
  },
  {
   "cell_type": "markdown",
   "id": "b6c55a37",
   "metadata": {},
   "source": [
    "It seems that the performance is not much better than just using text. Now I'll look at the final testing score: "
   ]
  },
  {
   "cell_type": "code",
   "execution_count": 38,
   "id": "1601ed8b",
   "metadata": {},
   "outputs": [
    {
     "name": "stdout",
     "output_type": "stream",
     "text": [
      "The accuracy for my final model is: 65.66%\n"
     ]
    }
   ],
   "source": [
    "#fit the defined column transformer\n",
    "vectorizer.fit(X_remainder) \n",
    "#Transform the training and testing sets \n",
    "X_rem_transformed = vectorizer.transform(X_remainder)\n",
    "X_test_transformed = vectorizer.transform(X_test)\n",
    "\n",
    "\n",
    "lm = LogisticRegression(C=1)\n",
    "lm.fit(X_rem_transformed, y_remainder)\n",
    "score = lm.score(X_test_transformed, y_test)\n",
    "\n",
    "print(f'The accuracy for my final model is: {round(score*100, 2)}%')"
   ]
  },
  {
   "cell_type": "markdown",
   "id": "0da173cf",
   "metadata": {},
   "source": [
    "The performance is almost identical to just using the text information alone. We can again call the predefined function to visualize the most predictive features in the logistic regression: "
   ]
  },
  {
   "cell_type": "code",
   "execution_count": 45,
   "id": "95eed153",
   "metadata": {
    "scrolled": false
   },
   "outputs": [
    {
     "data": {
      "image/png": "[encoded data removed]",
      "text/plain": [
       "<Figure size 576x432 with 1 Axes>"
      ]
     },
     "metadata": {
      "needs_background": "light"
     },
     "output_type": "display_data"
    }
   ],
   "source": [
    "vis_logit_coef(lm.coef_, vectorizer, 'positive')"
   ]
  },
  {
   "cell_type": "code",
   "execution_count": 46,
   "id": "4271153c",
   "metadata": {
    "scrolled": false
   },
   "outputs": [
    {
     "data": {
      "image/png": "[encoded data removed]",
      "text/plain": [
       "<Figure size 576x432 with 1 Axes>"
      ]
     },
     "metadata": {
      "needs_background": "light"
     },
     "output_type": "display_data"
    }
   ],
   "source": [
    "vis_logit_coef(lm.coef_, vectorizer, 'neutral')"
   ]
  },
  {
   "cell_type": "code",
   "execution_count": 47,
   "id": "a3f40d66",
   "metadata": {
    "scrolled": false
   },
   "outputs": [
    {
     "data": {
      "image/png": "[encoded data removed]",
      "text/plain": [
       "<Figure size 576x432 with 1 Axes>"
      ]
     },
     "metadata": {
      "needs_background": "light"
     },
     "output_type": "display_data"
    }
   ],
   "source": [
    "vis_logit_coef(lm.coef_, vectorizer, 'negative')"
   ]
  },
  {
   "cell_type": "markdown",
   "id": "e9c901b5",
   "metadata": {},
   "source": [
    "It is interesting to see that after adding information such as authors and news sources, the most predictive features are still certain words from the article text. None of the features generated by other columns appears in the top 10 coefficients in any of the categories. This also explains why our model accuracy is almost unchanged even with the added features. "
   ]
  },
  {
   "cell_type": "markdown",
   "id": "ad2481d4",
   "metadata": {},
   "source": [
    "I will also look at the confusion matrix:"
   ]
  },
  {
   "cell_type": "code",
   "execution_count": 49,
   "id": "95bdfe04",
   "metadata": {},
   "outputs": [
    {
     "data": {
      "text/plain": [
       "<sklearn.metrics._plot.confusion_matrix.ConfusionMatrixDisplay at 0x217d8b22ac0>"
      ]
     },
     "execution_count": 49,
     "metadata": {},
     "output_type": "execute_result"
    },
    {
     "data": {
      "image/png": "[encoded data removed]",
      "text/plain": [
       "<Figure size 432x288 with 2 Axes>"
      ]
     },
     "metadata": {
      "needs_background": "light"
     },
     "output_type": "display_data"
    }
   ],
   "source": [
    "from sklearn.metrics import ConfusionMatrixDisplay\n",
    "\n",
    "ConfusionMatrixDisplay.from_estimator(lm, X_test_transformed, y_test, \n",
    "                                      cmap='Blues', display_labels = ['negative', 'neutral', 'positive'])"
   ]
  },
  {
   "cell_type": "code",
   "execution_count": 41,
   "id": "2e6160a3",
   "metadata": {},
   "outputs": [
    {
     "name": "stdout",
     "output_type": "stream",
     "text": [
      "The precision for a positive review is: 0.68\n",
      "The recall for a positive review is: 0.73 \n",
      "\n",
      "The precision for a neutral review is: 0.47\n",
      "The recall for a neutral review is: 0.19 \n",
      "\n",
      "The precision for a negative review is: 0.67\n",
      "The recall for a negative review is: 0.77 \n",
      "\n"
     ]
    }
   ],
   "source": [
    "print(f'The precision for a positive review is: {round(39483/(39483+7809+11090),2)}')\n",
    "print(f'The recall for a positive review is: {round(39483/(39483+2236+12724),2)} \\n')\n",
    "\n",
    "print(f'The precision for a neutral review is: {round(4332/(4332+2702+2236),2)}')\n",
    "print(f'The recall for a neutral review is: {round(4332/(7809+10843+4332),2)} \\n')\n",
    "\n",
    "print(f'The precision for a negative review is: {round(46807/(46807+10843+12724),2)}')\n",
    "print(f'The recall for a negative review is: {round(46807/(46807+2702+11090),2)} \\n')"
   ]
  },
  {
   "cell_type": "markdown",
   "id": "e099575b",
   "metadata": {},
   "source": [
    "Looking at the precision and recall numbers, it seems that the model is doing a decent job catching positive or negative sentiment in the article. Articles with positive sentiment is correctly identified by the model 73% of the times, and when the model predict a positive sentiment, it is the correct prediction in 68% of the times. The numbers for the negative sentiment are very similar.\n",
    "\n",
    "However, the model is not doing a great job at identifying neutral sentiment, which is probably because the definition of \"neutral\" is somewhat vague to begin with. Only 19% of the articles with neutral sentiment are correctly identified, and for those articles predicted to have a neutral sentiment, only 47% of them are correct. "
   ]
  },
  {
   "cell_type": "markdown",
   "id": "6e05ecc6",
   "metadata": {},
   "source": [
    "## Conclusion and Next Step"
   ]
  },
  {
   "cell_type": "markdown",
   "id": "d401ac66",
   "metadata": {},
   "source": [
    "I have now completed my modeling to predict the sentiment of Covid news articles. I started by exploring the text itself and applying different processing transformations, including a Word2Vec embedding trained by my own neural network. My best model with features from the text alone was able to achieve 65.96% testing accuracy. Adding other potentially important features (as found in my EDA) does not further improve the model performance. On top of the body text, my final model incorporated the author, country, news source information and has a 65.66% accuracy rate. The model is doing a better job at identifying positive or negative sentiment than identifying a neutral sentiment.\n",
    "\n",
    "It is encouraging to see that my word processing is carrying the load for my model prediction. For NLP to be useful in the business world, one would like to see the processing on the text itself to produce useful information and help prediction. It would be helpful to know that we are able to predict the sentiment of a written text by the content of the text itself rather than relying on other information such as the authors or sources of the text. \n",
    "\n",
    "For next step of this project, I would like to explore more advanced NLP models and see how they help my model perform. The Word2Vec and LexVec embedding I used here is more like a first step into the world of NLP. More advanced models are already developed, and I would like to learn more about their application and apply them to this project. Another thing I would like to do is the unsupervised topic modeling for the articles. I would like to explore more about how the machine classifies the unlabeled articles and whether I, as a human, can make sense of resulted clusters. \n",
    "\n",
    "This project will be concluded here, but I am really interested in the world of NLP and will not stop learning about it!"
   ]
  }
 ],
 "metadata": {
  "colab": {
   "collapsed_sections": [],
   "machine_shape": "hm",
   "provenance": []
  },
  "gpuClass": "standard",
  "kernelspec": {
   "display_name": "Python 3 (ipykernel)",
   "language": "python",
   "name": "python3"
  },
  "language_info": {
   "codemirror_mode": {
    "name": "ipython",
    "version": 3
   },
   "file_extension": ".py",
   "mimetype": "text/x-python",
   "name": "python",
   "nbconvert_exporter": "python",
   "pygments_lexer": "ipython3",
   "version": "3.9.12"
  }
 },
 "nbformat": 4,
 "nbformat_minor": 5
}
